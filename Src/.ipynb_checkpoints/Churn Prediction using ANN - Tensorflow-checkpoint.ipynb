{
 "cells": [
  {
   "cell_type": "markdown",
   "id": "9d93fb63",
   "metadata": {
    "papermill": {
     "duration": 0.007834,
     "end_time": "2023-09-28T13:40:03.353402",
     "exception": false,
     "start_time": "2023-09-28T13:40:03.345568",
     "status": "completed"
    },
    "tags": []
   },
   "source": [
    "# Importing dependencies"
   ]
  },
  {
   "cell_type": "code",
   "execution_count": 1,
   "id": "36bfcc01",
   "metadata": {
    "_cell_guid": "b1076dfc-b9ad-4769-8c92-a6c4dae69d19",
    "_uuid": "8f2839f25d086af736a60e9eeb907d3b93b6e0e5",
    "execution": {
     "iopub.execute_input": "2023-09-28T13:40:03.371487Z",
     "iopub.status.busy": "2023-09-28T13:40:03.370667Z",
     "iopub.status.idle": "2023-09-28T13:40:03.792035Z",
     "shell.execute_reply": "2023-09-28T13:40:03.790827Z"
    },
    "papermill": {
     "duration": 0.434096,
     "end_time": "2023-09-28T13:40:03.794892",
     "exception": false,
     "start_time": "2023-09-28T13:40:03.360796",
     "status": "completed"
    },
    "tags": []
   },
   "outputs": [],
   "source": [
    "import numpy as np # linear algebra\n",
    "import pandas as pd # data processing, CSV file I/O (e.g. pd.read_csv)\n",
    "import matplotlib.pyplot as plt"
   ]
  },
  {
   "cell_type": "code",
   "execution_count": 2,
   "id": "6ad78f05",
   "metadata": {
    "execution": {
     "iopub.execute_input": "2023-09-28T13:40:03.812541Z",
     "iopub.status.busy": "2023-09-28T13:40:03.811925Z",
     "iopub.status.idle": "2023-09-28T13:40:03.869130Z",
     "shell.execute_reply": "2023-09-28T13:40:03.867950Z"
    },
    "papermill": {
     "duration": 0.069539,
     "end_time": "2023-09-28T13:40:03.872078",
     "exception": false,
     "start_time": "2023-09-28T13:40:03.802539",
     "status": "completed"
    },
    "tags": []
   },
   "outputs": [],
   "source": [
    "df = pd.read_csv(\"/kaggle/input/churn-modelling/Churn_Modelling.csv\")"
   ]
  },
  {
   "cell_type": "code",
   "execution_count": 3,
   "id": "a45470fc",
   "metadata": {
    "execution": {
     "iopub.execute_input": "2023-09-28T13:40:03.890269Z",
     "iopub.status.busy": "2023-09-28T13:40:03.889461Z",
     "iopub.status.idle": "2023-09-28T13:40:03.897570Z",
     "shell.execute_reply": "2023-09-28T13:40:03.896431Z"
    },
    "papermill": {
     "duration": 0.019982,
     "end_time": "2023-09-28T13:40:03.899889",
     "exception": false,
     "start_time": "2023-09-28T13:40:03.879907",
     "status": "completed"
    },
    "tags": []
   },
   "outputs": [
    {
     "data": {
      "text/plain": [
       "(10000, 14)"
      ]
     },
     "execution_count": 3,
     "metadata": {},
     "output_type": "execute_result"
    }
   ],
   "source": [
    "df.shape"
   ]
  },
  {
   "cell_type": "code",
   "execution_count": 4,
   "id": "94ecc36e",
   "metadata": {
    "execution": {
     "iopub.execute_input": "2023-09-28T13:40:03.917317Z",
     "iopub.status.busy": "2023-09-28T13:40:03.916866Z",
     "iopub.status.idle": "2023-09-28T13:40:03.944822Z",
     "shell.execute_reply": "2023-09-28T13:40:03.943621Z"
    },
    "papermill": {
     "duration": 0.039856,
     "end_time": "2023-09-28T13:40:03.947420",
     "exception": false,
     "start_time": "2023-09-28T13:40:03.907564",
     "status": "completed"
    },
    "tags": []
   },
   "outputs": [
    {
     "data": {
      "text/html": [
       "<div>\n",
       "<style scoped>\n",
       "    .dataframe tbody tr th:only-of-type {\n",
       "        vertical-align: middle;\n",
       "    }\n",
       "\n",
       "    .dataframe tbody tr th {\n",
       "        vertical-align: top;\n",
       "    }\n",
       "\n",
       "    .dataframe thead th {\n",
       "        text-align: right;\n",
       "    }\n",
       "</style>\n",
       "<table border=\"1\" class=\"dataframe\">\n",
       "  <thead>\n",
       "    <tr style=\"text-align: right;\">\n",
       "      <th></th>\n",
       "      <th>RowNumber</th>\n",
       "      <th>CustomerId</th>\n",
       "      <th>Surname</th>\n",
       "      <th>CreditScore</th>\n",
       "      <th>Geography</th>\n",
       "      <th>Gender</th>\n",
       "      <th>Age</th>\n",
       "      <th>Tenure</th>\n",
       "      <th>Balance</th>\n",
       "      <th>NumOfProducts</th>\n",
       "      <th>HasCrCard</th>\n",
       "      <th>IsActiveMember</th>\n",
       "      <th>EstimatedSalary</th>\n",
       "      <th>Exited</th>\n",
       "    </tr>\n",
       "  </thead>\n",
       "  <tbody>\n",
       "    <tr>\n",
       "      <th>0</th>\n",
       "      <td>1</td>\n",
       "      <td>15634602</td>\n",
       "      <td>Hargrave</td>\n",
       "      <td>619</td>\n",
       "      <td>France</td>\n",
       "      <td>Female</td>\n",
       "      <td>42</td>\n",
       "      <td>2</td>\n",
       "      <td>0.00</td>\n",
       "      <td>1</td>\n",
       "      <td>1</td>\n",
       "      <td>1</td>\n",
       "      <td>101348.88</td>\n",
       "      <td>1</td>\n",
       "    </tr>\n",
       "    <tr>\n",
       "      <th>1</th>\n",
       "      <td>2</td>\n",
       "      <td>15647311</td>\n",
       "      <td>Hill</td>\n",
       "      <td>608</td>\n",
       "      <td>Spain</td>\n",
       "      <td>Female</td>\n",
       "      <td>41</td>\n",
       "      <td>1</td>\n",
       "      <td>83807.86</td>\n",
       "      <td>1</td>\n",
       "      <td>0</td>\n",
       "      <td>1</td>\n",
       "      <td>112542.58</td>\n",
       "      <td>0</td>\n",
       "    </tr>\n",
       "    <tr>\n",
       "      <th>2</th>\n",
       "      <td>3</td>\n",
       "      <td>15619304</td>\n",
       "      <td>Onio</td>\n",
       "      <td>502</td>\n",
       "      <td>France</td>\n",
       "      <td>Female</td>\n",
       "      <td>42</td>\n",
       "      <td>8</td>\n",
       "      <td>159660.80</td>\n",
       "      <td>3</td>\n",
       "      <td>1</td>\n",
       "      <td>0</td>\n",
       "      <td>113931.57</td>\n",
       "      <td>1</td>\n",
       "    </tr>\n",
       "    <tr>\n",
       "      <th>3</th>\n",
       "      <td>4</td>\n",
       "      <td>15701354</td>\n",
       "      <td>Boni</td>\n",
       "      <td>699</td>\n",
       "      <td>France</td>\n",
       "      <td>Female</td>\n",
       "      <td>39</td>\n",
       "      <td>1</td>\n",
       "      <td>0.00</td>\n",
       "      <td>2</td>\n",
       "      <td>0</td>\n",
       "      <td>0</td>\n",
       "      <td>93826.63</td>\n",
       "      <td>0</td>\n",
       "    </tr>\n",
       "    <tr>\n",
       "      <th>4</th>\n",
       "      <td>5</td>\n",
       "      <td>15737888</td>\n",
       "      <td>Mitchell</td>\n",
       "      <td>850</td>\n",
       "      <td>Spain</td>\n",
       "      <td>Female</td>\n",
       "      <td>43</td>\n",
       "      <td>2</td>\n",
       "      <td>125510.82</td>\n",
       "      <td>1</td>\n",
       "      <td>1</td>\n",
       "      <td>1</td>\n",
       "      <td>79084.10</td>\n",
       "      <td>0</td>\n",
       "    </tr>\n",
       "  </tbody>\n",
       "</table>\n",
       "</div>"
      ],
      "text/plain": [
       "   RowNumber  CustomerId   Surname  CreditScore Geography  Gender  Age  \\\n",
       "0          1    15634602  Hargrave          619    France  Female   42   \n",
       "1          2    15647311      Hill          608     Spain  Female   41   \n",
       "2          3    15619304      Onio          502    France  Female   42   \n",
       "3          4    15701354      Boni          699    France  Female   39   \n",
       "4          5    15737888  Mitchell          850     Spain  Female   43   \n",
       "\n",
       "   Tenure    Balance  NumOfProducts  HasCrCard  IsActiveMember  \\\n",
       "0       2       0.00              1          1               1   \n",
       "1       1   83807.86              1          0               1   \n",
       "2       8  159660.80              3          1               0   \n",
       "3       1       0.00              2          0               0   \n",
       "4       2  125510.82              1          1               1   \n",
       "\n",
       "   EstimatedSalary  Exited  \n",
       "0        101348.88       1  \n",
       "1        112542.58       0  \n",
       "2        113931.57       1  \n",
       "3         93826.63       0  \n",
       "4         79084.10       0  "
      ]
     },
     "execution_count": 4,
     "metadata": {},
     "output_type": "execute_result"
    }
   ],
   "source": [
    "df.head()"
   ]
  },
  {
   "cell_type": "code",
   "execution_count": 5,
   "id": "2974d090",
   "metadata": {
    "execution": {
     "iopub.execute_input": "2023-09-28T13:40:03.965353Z",
     "iopub.status.busy": "2023-09-28T13:40:03.964660Z",
     "iopub.status.idle": "2023-09-28T13:40:04.001227Z",
     "shell.execute_reply": "2023-09-28T13:40:03.999760Z"
    },
    "papermill": {
     "duration": 0.049326,
     "end_time": "2023-09-28T13:40:04.004675",
     "exception": false,
     "start_time": "2023-09-28T13:40:03.955349",
     "status": "completed"
    },
    "tags": []
   },
   "outputs": [
    {
     "name": "stdout",
     "output_type": "stream",
     "text": [
      "<class 'pandas.core.frame.DataFrame'>\n",
      "RangeIndex: 10000 entries, 0 to 9999\n",
      "Data columns (total 14 columns):\n",
      " #   Column           Non-Null Count  Dtype  \n",
      "---  ------           --------------  -----  \n",
      " 0   RowNumber        10000 non-null  int64  \n",
      " 1   CustomerId       10000 non-null  int64  \n",
      " 2   Surname          10000 non-null  object \n",
      " 3   CreditScore      10000 non-null  int64  \n",
      " 4   Geography        10000 non-null  object \n",
      " 5   Gender           10000 non-null  object \n",
      " 6   Age              10000 non-null  int64  \n",
      " 7   Tenure           10000 non-null  int64  \n",
      " 8   Balance          10000 non-null  float64\n",
      " 9   NumOfProducts    10000 non-null  int64  \n",
      " 10  HasCrCard        10000 non-null  int64  \n",
      " 11  IsActiveMember   10000 non-null  int64  \n",
      " 12  EstimatedSalary  10000 non-null  float64\n",
      " 13  Exited           10000 non-null  int64  \n",
      "dtypes: float64(2), int64(9), object(3)\n",
      "memory usage: 1.1+ MB\n"
     ]
    }
   ],
   "source": [
    "df.info()"
   ]
  },
  {
   "cell_type": "code",
   "execution_count": 6,
   "id": "6ba2a06b",
   "metadata": {
    "execution": {
     "iopub.execute_input": "2023-09-28T13:40:04.023088Z",
     "iopub.status.busy": "2023-09-28T13:40:04.022659Z",
     "iopub.status.idle": "2023-09-28T13:40:04.042291Z",
     "shell.execute_reply": "2023-09-28T13:40:04.041030Z"
    },
    "papermill": {
     "duration": 0.032009,
     "end_time": "2023-09-28T13:40:04.044976",
     "exception": false,
     "start_time": "2023-09-28T13:40:04.012967",
     "status": "completed"
    },
    "tags": []
   },
   "outputs": [
    {
     "data": {
      "text/plain": [
       "0"
      ]
     },
     "execution_count": 6,
     "metadata": {},
     "output_type": "execute_result"
    }
   ],
   "source": [
    "df.duplicated().sum()"
   ]
  },
  {
   "cell_type": "code",
   "execution_count": 7,
   "id": "8d423396",
   "metadata": {
    "execution": {
     "iopub.execute_input": "2023-09-28T13:40:04.062778Z",
     "iopub.status.busy": "2023-09-28T13:40:04.062382Z",
     "iopub.status.idle": "2023-09-28T13:40:04.071099Z",
     "shell.execute_reply": "2023-09-28T13:40:04.070069Z"
    },
    "papermill": {
     "duration": 0.020266,
     "end_time": "2023-09-28T13:40:04.073383",
     "exception": false,
     "start_time": "2023-09-28T13:40:04.053117",
     "status": "completed"
    },
    "tags": []
   },
   "outputs": [
    {
     "data": {
      "text/plain": [
       "Exited\n",
       "0    7963\n",
       "1    2037\n",
       "Name: count, dtype: int64"
      ]
     },
     "execution_count": 7,
     "metadata": {},
     "output_type": "execute_result"
    }
   ],
   "source": [
    "df['Exited'].value_counts()"
   ]
  },
  {
   "cell_type": "code",
   "execution_count": 8,
   "id": "ff448c76",
   "metadata": {
    "execution": {
     "iopub.execute_input": "2023-09-28T13:40:04.091710Z",
     "iopub.status.busy": "2023-09-28T13:40:04.091257Z",
     "iopub.status.idle": "2023-09-28T13:40:04.100742Z",
     "shell.execute_reply": "2023-09-28T13:40:04.099711Z"
    },
    "papermill": {
     "duration": 0.021459,
     "end_time": "2023-09-28T13:40:04.102946",
     "exception": false,
     "start_time": "2023-09-28T13:40:04.081487",
     "status": "completed"
    },
    "tags": []
   },
   "outputs": [
    {
     "data": {
      "text/plain": [
       "Geography\n",
       "France     5014\n",
       "Germany    2509\n",
       "Spain      2477\n",
       "Name: count, dtype: int64"
      ]
     },
     "execution_count": 8,
     "metadata": {},
     "output_type": "execute_result"
    }
   ],
   "source": [
    "# df['Geography'].unique()\n",
    "df['Geography'].value_counts()"
   ]
  },
  {
   "cell_type": "code",
   "execution_count": 9,
   "id": "b8392ad1",
   "metadata": {
    "execution": {
     "iopub.execute_input": "2023-09-28T13:40:04.122348Z",
     "iopub.status.busy": "2023-09-28T13:40:04.121406Z",
     "iopub.status.idle": "2023-09-28T13:40:04.130788Z",
     "shell.execute_reply": "2023-09-28T13:40:04.129943Z"
    },
    "papermill": {
     "duration": 0.021144,
     "end_time": "2023-09-28T13:40:04.132719",
     "exception": false,
     "start_time": "2023-09-28T13:40:04.111575",
     "status": "completed"
    },
    "tags": []
   },
   "outputs": [
    {
     "data": {
      "text/plain": [
       "Gender\n",
       "Male      5457\n",
       "Female    4543\n",
       "Name: count, dtype: int64"
      ]
     },
     "execution_count": 9,
     "metadata": {},
     "output_type": "execute_result"
    }
   ],
   "source": [
    "df['Gender'].value_counts()"
   ]
  },
  {
   "cell_type": "code",
   "execution_count": 10,
   "id": "87703122",
   "metadata": {
    "execution": {
     "iopub.execute_input": "2023-09-28T13:40:04.152578Z",
     "iopub.status.busy": "2023-09-28T13:40:04.151280Z",
     "iopub.status.idle": "2023-09-28T13:40:04.161937Z",
     "shell.execute_reply": "2023-09-28T13:40:04.160467Z"
    },
    "papermill": {
     "duration": 0.023972,
     "end_time": "2023-09-28T13:40:04.165088",
     "exception": false,
     "start_time": "2023-09-28T13:40:04.141116",
     "status": "completed"
    },
    "tags": []
   },
   "outputs": [],
   "source": [
    "df2 = df.drop(columns=['RowNumber', 'CustomerId', 'Surname'])"
   ]
  },
  {
   "cell_type": "markdown",
   "id": "2cb330db",
   "metadata": {
    "papermill": {
     "duration": 0.008349,
     "end_time": "2023-09-28T13:40:04.182692",
     "exception": false,
     "start_time": "2023-09-28T13:40:04.174343",
     "status": "completed"
    },
    "tags": []
   },
   "source": [
    "# Converting categorical data into numerical data using Label Encoder"
   ]
  },
  {
   "cell_type": "code",
   "execution_count": 11,
   "id": "00f62a40",
   "metadata": {
    "execution": {
     "iopub.execute_input": "2023-09-28T13:40:04.201966Z",
     "iopub.status.busy": "2023-09-28T13:40:04.201535Z",
     "iopub.status.idle": "2023-09-28T13:40:05.498695Z",
     "shell.execute_reply": "2023-09-28T13:40:05.497413Z"
    },
    "papermill": {
     "duration": 1.309747,
     "end_time": "2023-09-28T13:40:05.501067",
     "exception": false,
     "start_time": "2023-09-28T13:40:04.191320",
     "status": "completed"
    },
    "tags": []
   },
   "outputs": [
    {
     "data": {
      "text/plain": [
       "CreditScore          int64\n",
       "Geography            int64\n",
       "Gender               int64\n",
       "Age                  int64\n",
       "Tenure               int64\n",
       "Balance            float64\n",
       "NumOfProducts        int64\n",
       "HasCrCard            int64\n",
       "IsActiveMember       int64\n",
       "EstimatedSalary    float64\n",
       "Exited               int64\n",
       "dtype: object"
      ]
     },
     "execution_count": 11,
     "metadata": {},
     "output_type": "execute_result"
    }
   ],
   "source": [
    "from sklearn.preprocessing import LabelEncoder\n",
    "le = LabelEncoder()\n",
    "for col in df2.columns:\n",
    "    if df2[col].dtypes != \"float64\":\n",
    "        df2[col] = le.fit_transform(df2[col])\n",
    "df2.dtypes"
   ]
  },
  {
   "cell_type": "code",
   "execution_count": 12,
   "id": "0f5708ab",
   "metadata": {
    "execution": {
     "iopub.execute_input": "2023-09-28T13:40:05.520146Z",
     "iopub.status.busy": "2023-09-28T13:40:05.519648Z",
     "iopub.status.idle": "2023-09-28T13:40:05.535688Z",
     "shell.execute_reply": "2023-09-28T13:40:05.534333Z"
    },
    "papermill": {
     "duration": 0.028881,
     "end_time": "2023-09-28T13:40:05.538475",
     "exception": false,
     "start_time": "2023-09-28T13:40:05.509594",
     "status": "completed"
    },
    "tags": []
   },
   "outputs": [
    {
     "data": {
      "text/html": [
       "<div>\n",
       "<style scoped>\n",
       "    .dataframe tbody tr th:only-of-type {\n",
       "        vertical-align: middle;\n",
       "    }\n",
       "\n",
       "    .dataframe tbody tr th {\n",
       "        vertical-align: top;\n",
       "    }\n",
       "\n",
       "    .dataframe thead th {\n",
       "        text-align: right;\n",
       "    }\n",
       "</style>\n",
       "<table border=\"1\" class=\"dataframe\">\n",
       "  <thead>\n",
       "    <tr style=\"text-align: right;\">\n",
       "      <th></th>\n",
       "      <th>CreditScore</th>\n",
       "      <th>Geography</th>\n",
       "      <th>Gender</th>\n",
       "      <th>Age</th>\n",
       "      <th>Tenure</th>\n",
       "      <th>Balance</th>\n",
       "      <th>NumOfProducts</th>\n",
       "      <th>HasCrCard</th>\n",
       "      <th>IsActiveMember</th>\n",
       "      <th>EstimatedSalary</th>\n",
       "      <th>Exited</th>\n",
       "    </tr>\n",
       "  </thead>\n",
       "  <tbody>\n",
       "    <tr>\n",
       "      <th>0</th>\n",
       "      <td>228</td>\n",
       "      <td>0</td>\n",
       "      <td>0</td>\n",
       "      <td>24</td>\n",
       "      <td>2</td>\n",
       "      <td>0.00</td>\n",
       "      <td>0</td>\n",
       "      <td>1</td>\n",
       "      <td>1</td>\n",
       "      <td>101348.88</td>\n",
       "      <td>1</td>\n",
       "    </tr>\n",
       "    <tr>\n",
       "      <th>1</th>\n",
       "      <td>217</td>\n",
       "      <td>2</td>\n",
       "      <td>0</td>\n",
       "      <td>23</td>\n",
       "      <td>1</td>\n",
       "      <td>83807.86</td>\n",
       "      <td>0</td>\n",
       "      <td>0</td>\n",
       "      <td>1</td>\n",
       "      <td>112542.58</td>\n",
       "      <td>0</td>\n",
       "    </tr>\n",
       "    <tr>\n",
       "      <th>2</th>\n",
       "      <td>111</td>\n",
       "      <td>0</td>\n",
       "      <td>0</td>\n",
       "      <td>24</td>\n",
       "      <td>8</td>\n",
       "      <td>159660.80</td>\n",
       "      <td>2</td>\n",
       "      <td>1</td>\n",
       "      <td>0</td>\n",
       "      <td>113931.57</td>\n",
       "      <td>1</td>\n",
       "    </tr>\n",
       "    <tr>\n",
       "      <th>3</th>\n",
       "      <td>308</td>\n",
       "      <td>0</td>\n",
       "      <td>0</td>\n",
       "      <td>21</td>\n",
       "      <td>1</td>\n",
       "      <td>0.00</td>\n",
       "      <td>1</td>\n",
       "      <td>0</td>\n",
       "      <td>0</td>\n",
       "      <td>93826.63</td>\n",
       "      <td>0</td>\n",
       "    </tr>\n",
       "    <tr>\n",
       "      <th>4</th>\n",
       "      <td>459</td>\n",
       "      <td>2</td>\n",
       "      <td>0</td>\n",
       "      <td>25</td>\n",
       "      <td>2</td>\n",
       "      <td>125510.82</td>\n",
       "      <td>0</td>\n",
       "      <td>1</td>\n",
       "      <td>1</td>\n",
       "      <td>79084.10</td>\n",
       "      <td>0</td>\n",
       "    </tr>\n",
       "  </tbody>\n",
       "</table>\n",
       "</div>"
      ],
      "text/plain": [
       "   CreditScore  Geography  Gender  Age  Tenure    Balance  NumOfProducts  \\\n",
       "0          228          0       0   24       2       0.00              0   \n",
       "1          217          2       0   23       1   83807.86              0   \n",
       "2          111          0       0   24       8  159660.80              2   \n",
       "3          308          0       0   21       1       0.00              1   \n",
       "4          459          2       0   25       2  125510.82              0   \n",
       "\n",
       "   HasCrCard  IsActiveMember  EstimatedSalary  Exited  \n",
       "0          1               1        101348.88       1  \n",
       "1          0               1        112542.58       0  \n",
       "2          1               0        113931.57       1  \n",
       "3          0               0         93826.63       0  \n",
       "4          1               1         79084.10       0  "
      ]
     },
     "execution_count": 12,
     "metadata": {},
     "output_type": "execute_result"
    }
   ],
   "source": [
    "df2.head()"
   ]
  },
  {
   "cell_type": "code",
   "execution_count": 13,
   "id": "41398b25",
   "metadata": {
    "execution": {
     "iopub.execute_input": "2023-09-28T13:40:05.558685Z",
     "iopub.status.busy": "2023-09-28T13:40:05.558205Z",
     "iopub.status.idle": "2023-09-28T13:40:05.683070Z",
     "shell.execute_reply": "2023-09-28T13:40:05.681733Z"
    },
    "papermill": {
     "duration": 0.138405,
     "end_time": "2023-09-28T13:40:05.685995",
     "exception": false,
     "start_time": "2023-09-28T13:40:05.547590",
     "status": "completed"
    },
    "tags": []
   },
   "outputs": [],
   "source": [
    "X = df2.drop(columns=['Exited'])\n",
    "y = df2['Exited']\n",
    "\n",
    "from sklearn.model_selection import train_test_split\n",
    "X_train, X_test, y_train, y_test = train_test_split(X, y, test_size = 0.2, random_state = 1)"
   ]
  },
  {
   "cell_type": "code",
   "execution_count": 14,
   "id": "0d53f09f",
   "metadata": {
    "execution": {
     "iopub.execute_input": "2023-09-28T13:40:05.706072Z",
     "iopub.status.busy": "2023-09-28T13:40:05.705585Z",
     "iopub.status.idle": "2023-09-28T13:40:05.713316Z",
     "shell.execute_reply": "2023-09-28T13:40:05.712207Z"
    },
    "papermill": {
     "duration": 0.020162,
     "end_time": "2023-09-28T13:40:05.715472",
     "exception": false,
     "start_time": "2023-09-28T13:40:05.695310",
     "status": "completed"
    },
    "tags": []
   },
   "outputs": [
    {
     "data": {
      "text/plain": [
       "(8000, 10)"
      ]
     },
     "execution_count": 14,
     "metadata": {},
     "output_type": "execute_result"
    }
   ],
   "source": [
    "X_train.shape"
   ]
  },
  {
   "cell_type": "code",
   "execution_count": 15,
   "id": "b5be2b76",
   "metadata": {
    "execution": {
     "iopub.execute_input": "2023-09-28T13:40:05.735449Z",
     "iopub.status.busy": "2023-09-28T13:40:05.734983Z",
     "iopub.status.idle": "2023-09-28T13:40:05.749597Z",
     "shell.execute_reply": "2023-09-28T13:40:05.748588Z"
    },
    "papermill": {
     "duration": 0.027729,
     "end_time": "2023-09-28T13:40:05.752256",
     "exception": false,
     "start_time": "2023-09-28T13:40:05.724527",
     "status": "completed"
    },
    "tags": []
   },
   "outputs": [],
   "source": [
    "from sklearn.preprocessing import StandardScaler\n",
    "scaler = StandardScaler()\n",
    "\n",
    "X_train_scaled = scaler.fit_transform(X_train)\n",
    "X_test_scaled = scaler.transform(X_test)"
   ]
  },
  {
   "cell_type": "code",
   "execution_count": 16,
   "id": "2acc329f",
   "metadata": {
    "execution": {
     "iopub.execute_input": "2023-09-28T13:40:05.772628Z",
     "iopub.status.busy": "2023-09-28T13:40:05.772084Z",
     "iopub.status.idle": "2023-09-28T13:40:05.779782Z",
     "shell.execute_reply": "2023-09-28T13:40:05.778973Z"
    },
    "papermill": {
     "duration": 0.02036,
     "end_time": "2023-09-28T13:40:05.781706",
     "exception": false,
     "start_time": "2023-09-28T13:40:05.761346",
     "status": "completed"
    },
    "tags": []
   },
   "outputs": [
    {
     "data": {
      "text/plain": [
       "array([[-0.23180395,  0.30531046,  0.91509065, ..., -1.55337352,\n",
       "         0.97725852,  0.42739449],\n",
       "       [-0.25252744, -0.90503826, -1.09278791, ..., -1.55337352,\n",
       "        -1.02327069, -1.02548708],\n",
       "       [-0.39759191,  0.30531046, -1.09278791, ...,  0.64376017,\n",
       "         0.97725852, -0.94479772],\n",
       "       ...,\n",
       "       [ 0.22411294, -0.90503826, -1.09278791, ...,  0.64376017,\n",
       "         0.97725852, -0.14096853],\n",
       "       [ 0.13085721, -0.90503826, -1.09278791, ...,  0.64376017,\n",
       "         0.97725852,  0.01781218],\n",
       "       [ 1.16703196,  0.30531046,  0.91509065, ...,  0.64376017,\n",
       "        -1.02327069, -1.15822478]])"
      ]
     },
     "execution_count": 16,
     "metadata": {},
     "output_type": "execute_result"
    }
   ],
   "source": [
    "X_train_scaled"
   ]
  },
  {
   "cell_type": "markdown",
   "id": "54cd11eb",
   "metadata": {
    "papermill": {
     "duration": 0.008816,
     "end_time": "2023-09-28T13:40:05.799540",
     "exception": false,
     "start_time": "2023-09-28T13:40:05.790724",
     "status": "completed"
    },
    "tags": []
   },
   "source": [
    "# Importing dependencies for building ANN model"
   ]
  },
  {
   "cell_type": "code",
   "execution_count": 17,
   "id": "802c1342",
   "metadata": {
    "execution": {
     "iopub.execute_input": "2023-09-28T13:40:05.820331Z",
     "iopub.status.busy": "2023-09-28T13:40:05.819059Z",
     "iopub.status.idle": "2023-09-28T13:40:15.654273Z",
     "shell.execute_reply": "2023-09-28T13:40:15.652571Z"
    },
    "papermill": {
     "duration": 9.848838,
     "end_time": "2023-09-28T13:40:15.657359",
     "exception": false,
     "start_time": "2023-09-28T13:40:05.808521",
     "status": "completed"
    },
    "tags": []
   },
   "outputs": [],
   "source": [
    "import tensorflow\n",
    "from tensorflow import keras\n",
    "from tensorflow.keras import Sequential\n",
    "from tensorflow.keras.layers import Dense"
   ]
  },
  {
   "cell_type": "markdown",
   "id": "60a994fb",
   "metadata": {
    "papermill": {
     "duration": 0.009185,
     "end_time": "2023-09-28T13:40:15.675733",
     "exception": false,
     "start_time": "2023-09-28T13:40:15.666548",
     "status": "completed"
    },
    "tags": []
   },
   "source": [
    "# Adding layers"
   ]
  },
  {
   "cell_type": "code",
   "execution_count": 18,
   "id": "42960f66",
   "metadata": {
    "execution": {
     "iopub.execute_input": "2023-09-28T13:40:15.697922Z",
     "iopub.status.busy": "2023-09-28T13:40:15.697022Z",
     "iopub.status.idle": "2023-09-28T13:40:15.922496Z",
     "shell.execute_reply": "2023-09-28T13:40:15.921284Z"
    },
    "papermill": {
     "duration": 0.242563,
     "end_time": "2023-09-28T13:40:15.928357",
     "exception": false,
     "start_time": "2023-09-28T13:40:15.685794",
     "status": "completed"
    },
    "tags": []
   },
   "outputs": [
    {
     "name": "stdout",
     "output_type": "stream",
     "text": [
      "Model: \"sequential\"\n",
      "_________________________________________________________________\n",
      " Layer (type)                Output Shape              Param #   \n",
      "=================================================================\n",
      " dense (Dense)               (None, 11)                121       \n",
      "                                                                 \n",
      " dense_1 (Dense)             (None, 11)                132       \n",
      "                                                                 \n",
      " dense_2 (Dense)             (None, 1)                 12        \n",
      "                                                                 \n",
      "=================================================================\n",
      "Total params: 265\n",
      "Trainable params: 265\n",
      "Non-trainable params: 0\n",
      "_________________________________________________________________\n"
     ]
    }
   ],
   "source": [
    "# Building neural network model\n",
    "model = Sequential()\n",
    "\n",
    "num_of_nodesInHiddenLayer = 11\n",
    "num_of_nodesInOutputLayer = 1\n",
    "\n",
    "# First hidden layer\n",
    "# Activation function can be 'sigmoid', 'relu' and so on. 'relu' performs better than sigmoid in hidden layers\n",
    "model.add(Dense(num_of_nodesInHiddenLayer, activation= 'sigmoid', input_dim = 10))\n",
    "\n",
    "# Second hidden layer\n",
    "model.add(Dense(num_of_nodesInHiddenLayer, activation= 'sigmoid'))\n",
    "\n",
    "# Output layer\n",
    "model.add(Dense(num_of_nodesInOutputLayer, activation= 'sigmoid'))\n",
    "\n",
    "model.summary()"
   ]
  },
  {
   "cell_type": "markdown",
   "id": "b11393f8",
   "metadata": {
    "papermill": {
     "duration": 0.009518,
     "end_time": "2023-09-28T13:40:15.947610",
     "exception": false,
     "start_time": "2023-09-28T13:40:15.938092",
     "status": "completed"
    },
    "tags": []
   },
   "source": [
    "# Compiling the model and training perceptrons"
   ]
  },
  {
   "cell_type": "code",
   "execution_count": 19,
   "id": "c6e84630",
   "metadata": {
    "execution": {
     "iopub.execute_input": "2023-09-28T13:40:15.969707Z",
     "iopub.status.busy": "2023-09-28T13:40:15.969019Z",
     "iopub.status.idle": "2023-09-28T13:40:15.991035Z",
     "shell.execute_reply": "2023-09-28T13:40:15.989616Z"
    },
    "papermill": {
     "duration": 0.036518,
     "end_time": "2023-09-28T13:40:15.993905",
     "exception": false,
     "start_time": "2023-09-28T13:40:15.957387",
     "status": "completed"
    },
    "tags": []
   },
   "outputs": [],
   "source": [
    "model.compile(loss='binary_crossentropy', optimizer='Adam', metrics=['accuracy'])"
   ]
  },
  {
   "cell_type": "code",
   "execution_count": 20,
   "id": "215b9c55",
   "metadata": {
    "execution": {
     "iopub.execute_input": "2023-09-28T13:40:16.017338Z",
     "iopub.status.busy": "2023-09-28T13:40:16.016075Z",
     "iopub.status.idle": "2023-09-28T13:40:58.383326Z",
     "shell.execute_reply": "2023-09-28T13:40:58.381899Z"
    },
    "papermill": {
     "duration": 42.382012,
     "end_time": "2023-09-28T13:40:58.386441",
     "exception": false,
     "start_time": "2023-09-28T13:40:16.004429",
     "status": "completed"
    },
    "tags": []
   },
   "outputs": [
    {
     "name": "stdout",
     "output_type": "stream",
     "text": [
      "Epoch 1/100\n",
      "200/200 [==============================] - 2s 3ms/step - loss: 0.4998 - accuracy: 0.7972 - val_loss: 0.4902 - val_accuracy: 0.7975\n",
      "Epoch 2/100\n",
      "200/200 [==============================] - 0s 2ms/step - loss: 0.4807 - accuracy: 0.7972 - val_loss: 0.4695 - val_accuracy: 0.7975\n",
      "Epoch 3/100\n",
      "200/200 [==============================] - 0s 2ms/step - loss: 0.4570 - accuracy: 0.7972 - val_loss: 0.4499 - val_accuracy: 0.7975\n",
      "Epoch 4/100\n",
      "200/200 [==============================] - 0s 2ms/step - loss: 0.4401 - accuracy: 0.7995 - val_loss: 0.4407 - val_accuracy: 0.8050\n",
      "Epoch 5/100\n",
      "200/200 [==============================] - 0s 2ms/step - loss: 0.4329 - accuracy: 0.8044 - val_loss: 0.4375 - val_accuracy: 0.8062\n",
      "Epoch 6/100\n",
      "200/200 [==============================] - 0s 2ms/step - loss: 0.4301 - accuracy: 0.8112 - val_loss: 0.4362 - val_accuracy: 0.8000\n",
      "Epoch 7/100\n",
      "200/200 [==============================] - 0s 2ms/step - loss: 0.4285 - accuracy: 0.8138 - val_loss: 0.4349 - val_accuracy: 0.8006\n",
      "Epoch 8/100\n",
      "200/200 [==============================] - 0s 2ms/step - loss: 0.4269 - accuracy: 0.8164 - val_loss: 0.4338 - val_accuracy: 0.8025\n",
      "Epoch 9/100\n",
      "200/200 [==============================] - 0s 2ms/step - loss: 0.4258 - accuracy: 0.8172 - val_loss: 0.4323 - val_accuracy: 0.8094\n",
      "Epoch 10/100\n",
      "200/200 [==============================] - 0s 2ms/step - loss: 0.4245 - accuracy: 0.8188 - val_loss: 0.4309 - val_accuracy: 0.8131\n",
      "Epoch 11/100\n",
      "200/200 [==============================] - 0s 2ms/step - loss: 0.4240 - accuracy: 0.8225 - val_loss: 0.4297 - val_accuracy: 0.8150\n",
      "Epoch 12/100\n",
      "200/200 [==============================] - 0s 2ms/step - loss: 0.4220 - accuracy: 0.8244 - val_loss: 0.4284 - val_accuracy: 0.8163\n",
      "Epoch 13/100\n",
      "200/200 [==============================] - 0s 2ms/step - loss: 0.4207 - accuracy: 0.8266 - val_loss: 0.4269 - val_accuracy: 0.8181\n",
      "Epoch 14/100\n",
      "200/200 [==============================] - 0s 2ms/step - loss: 0.4197 - accuracy: 0.8298 - val_loss: 0.4258 - val_accuracy: 0.8206\n",
      "Epoch 15/100\n",
      "200/200 [==============================] - 0s 2ms/step - loss: 0.4185 - accuracy: 0.8305 - val_loss: 0.4249 - val_accuracy: 0.8200\n",
      "Epoch 16/100\n",
      "200/200 [==============================] - 0s 2ms/step - loss: 0.4173 - accuracy: 0.8319 - val_loss: 0.4241 - val_accuracy: 0.8231\n",
      "Epoch 17/100\n",
      "200/200 [==============================] - 0s 2ms/step - loss: 0.4162 - accuracy: 0.8323 - val_loss: 0.4227 - val_accuracy: 0.8219\n",
      "Epoch 18/100\n",
      "200/200 [==============================] - 0s 2ms/step - loss: 0.4153 - accuracy: 0.8322 - val_loss: 0.4216 - val_accuracy: 0.8213\n",
      "Epoch 19/100\n",
      "200/200 [==============================] - 0s 2ms/step - loss: 0.4143 - accuracy: 0.8358 - val_loss: 0.4205 - val_accuracy: 0.8219\n",
      "Epoch 20/100\n",
      "200/200 [==============================] - 0s 2ms/step - loss: 0.4131 - accuracy: 0.8350 - val_loss: 0.4197 - val_accuracy: 0.8244\n",
      "Epoch 21/100\n",
      "200/200 [==============================] - 0s 2ms/step - loss: 0.4121 - accuracy: 0.8345 - val_loss: 0.4189 - val_accuracy: 0.8213\n",
      "Epoch 22/100\n",
      "200/200 [==============================] - 0s 2ms/step - loss: 0.4114 - accuracy: 0.8359 - val_loss: 0.4184 - val_accuracy: 0.8250\n",
      "Epoch 23/100\n",
      "200/200 [==============================] - 0s 2ms/step - loss: 0.4104 - accuracy: 0.8377 - val_loss: 0.4169 - val_accuracy: 0.8250\n",
      "Epoch 24/100\n",
      "200/200 [==============================] - 0s 2ms/step - loss: 0.4092 - accuracy: 0.8369 - val_loss: 0.4165 - val_accuracy: 0.8256\n",
      "Epoch 25/100\n",
      "200/200 [==============================] - 0s 2ms/step - loss: 0.4083 - accuracy: 0.8373 - val_loss: 0.4152 - val_accuracy: 0.8269\n",
      "Epoch 26/100\n",
      "200/200 [==============================] - 0s 2ms/step - loss: 0.4068 - accuracy: 0.8377 - val_loss: 0.4139 - val_accuracy: 0.8269\n",
      "Epoch 27/100\n",
      "200/200 [==============================] - 0s 2ms/step - loss: 0.4054 - accuracy: 0.8400 - val_loss: 0.4129 - val_accuracy: 0.8269\n",
      "Epoch 28/100\n",
      "200/200 [==============================] - 0s 2ms/step - loss: 0.4041 - accuracy: 0.8386 - val_loss: 0.4113 - val_accuracy: 0.8288\n",
      "Epoch 29/100\n",
      "200/200 [==============================] - 0s 2ms/step - loss: 0.4024 - accuracy: 0.8388 - val_loss: 0.4111 - val_accuracy: 0.8275\n",
      "Epoch 30/100\n",
      "200/200 [==============================] - 0s 2ms/step - loss: 0.4004 - accuracy: 0.8413 - val_loss: 0.4081 - val_accuracy: 0.8275\n",
      "Epoch 31/100\n",
      "200/200 [==============================] - 0s 2ms/step - loss: 0.3988 - accuracy: 0.8419 - val_loss: 0.4064 - val_accuracy: 0.8288\n",
      "Epoch 32/100\n",
      "200/200 [==============================] - 0s 2ms/step - loss: 0.3966 - accuracy: 0.8430 - val_loss: 0.4060 - val_accuracy: 0.8294\n",
      "Epoch 33/100\n",
      "200/200 [==============================] - 0s 2ms/step - loss: 0.3949 - accuracy: 0.8431 - val_loss: 0.4027 - val_accuracy: 0.8275\n",
      "Epoch 34/100\n",
      "200/200 [==============================] - 0s 2ms/step - loss: 0.3930 - accuracy: 0.8442 - val_loss: 0.4010 - val_accuracy: 0.8294\n",
      "Epoch 35/100\n",
      "200/200 [==============================] - 0s 2ms/step - loss: 0.3912 - accuracy: 0.8442 - val_loss: 0.3996 - val_accuracy: 0.8294\n",
      "Epoch 36/100\n",
      "200/200 [==============================] - 0s 2ms/step - loss: 0.3894 - accuracy: 0.8455 - val_loss: 0.3985 - val_accuracy: 0.8300\n",
      "Epoch 37/100\n",
      "200/200 [==============================] - 0s 2ms/step - loss: 0.3877 - accuracy: 0.8467 - val_loss: 0.3958 - val_accuracy: 0.8313\n",
      "Epoch 38/100\n",
      "200/200 [==============================] - 0s 2ms/step - loss: 0.3855 - accuracy: 0.8467 - val_loss: 0.3942 - val_accuracy: 0.8313\n",
      "Epoch 39/100\n",
      "200/200 [==============================] - 0s 2ms/step - loss: 0.3840 - accuracy: 0.8472 - val_loss: 0.3928 - val_accuracy: 0.8325\n",
      "Epoch 40/100\n",
      "200/200 [==============================] - 0s 2ms/step - loss: 0.3824 - accuracy: 0.8484 - val_loss: 0.3910 - val_accuracy: 0.8331\n",
      "Epoch 41/100\n",
      "200/200 [==============================] - 0s 2ms/step - loss: 0.3810 - accuracy: 0.8487 - val_loss: 0.3898 - val_accuracy: 0.8350\n",
      "Epoch 42/100\n",
      "200/200 [==============================] - 0s 2ms/step - loss: 0.3793 - accuracy: 0.8492 - val_loss: 0.3886 - val_accuracy: 0.8363\n",
      "Epoch 43/100\n",
      "200/200 [==============================] - 0s 2ms/step - loss: 0.3780 - accuracy: 0.8502 - val_loss: 0.3880 - val_accuracy: 0.8350\n",
      "Epoch 44/100\n",
      "200/200 [==============================] - 0s 2ms/step - loss: 0.3765 - accuracy: 0.8503 - val_loss: 0.3859 - val_accuracy: 0.8381\n",
      "Epoch 45/100\n",
      "200/200 [==============================] - 0s 2ms/step - loss: 0.3755 - accuracy: 0.8497 - val_loss: 0.3849 - val_accuracy: 0.8381\n",
      "Epoch 46/100\n",
      "200/200 [==============================] - 0s 2ms/step - loss: 0.3740 - accuracy: 0.8506 - val_loss: 0.3841 - val_accuracy: 0.8375\n",
      "Epoch 47/100\n",
      "200/200 [==============================] - 0s 2ms/step - loss: 0.3729 - accuracy: 0.8506 - val_loss: 0.3841 - val_accuracy: 0.8356\n",
      "Epoch 48/100\n",
      "200/200 [==============================] - 0s 2ms/step - loss: 0.3719 - accuracy: 0.8512 - val_loss: 0.3823 - val_accuracy: 0.8381\n",
      "Epoch 49/100\n",
      "200/200 [==============================] - 0s 2ms/step - loss: 0.3710 - accuracy: 0.8517 - val_loss: 0.3811 - val_accuracy: 0.8381\n",
      "Epoch 50/100\n",
      "200/200 [==============================] - 0s 2ms/step - loss: 0.3697 - accuracy: 0.8525 - val_loss: 0.3805 - val_accuracy: 0.8400\n",
      "Epoch 51/100\n",
      "200/200 [==============================] - 0s 2ms/step - loss: 0.3686 - accuracy: 0.8544 - val_loss: 0.3817 - val_accuracy: 0.8375\n",
      "Epoch 52/100\n",
      "200/200 [==============================] - 0s 2ms/step - loss: 0.3680 - accuracy: 0.8534 - val_loss: 0.3790 - val_accuracy: 0.8406\n",
      "Epoch 53/100\n",
      "200/200 [==============================] - 0s 2ms/step - loss: 0.3671 - accuracy: 0.8541 - val_loss: 0.3783 - val_accuracy: 0.8413\n",
      "Epoch 54/100\n",
      "200/200 [==============================] - 0s 2ms/step - loss: 0.3662 - accuracy: 0.8561 - val_loss: 0.3778 - val_accuracy: 0.8413\n",
      "Epoch 55/100\n",
      "200/200 [==============================] - 0s 2ms/step - loss: 0.3655 - accuracy: 0.8541 - val_loss: 0.3773 - val_accuracy: 0.8413\n",
      "Epoch 56/100\n",
      "200/200 [==============================] - 0s 2ms/step - loss: 0.3648 - accuracy: 0.8561 - val_loss: 0.3763 - val_accuracy: 0.8413\n",
      "Epoch 57/100\n",
      "200/200 [==============================] - 0s 2ms/step - loss: 0.3640 - accuracy: 0.8575 - val_loss: 0.3770 - val_accuracy: 0.8400\n",
      "Epoch 58/100\n",
      "200/200 [==============================] - 0s 2ms/step - loss: 0.3635 - accuracy: 0.8578 - val_loss: 0.3751 - val_accuracy: 0.8413\n",
      "Epoch 59/100\n",
      "200/200 [==============================] - 0s 2ms/step - loss: 0.3626 - accuracy: 0.8558 - val_loss: 0.3748 - val_accuracy: 0.8406\n",
      "Epoch 60/100\n",
      "200/200 [==============================] - 0s 2ms/step - loss: 0.3619 - accuracy: 0.8564 - val_loss: 0.3752 - val_accuracy: 0.8413\n",
      "Epoch 61/100\n",
      "200/200 [==============================] - 0s 2ms/step - loss: 0.3617 - accuracy: 0.8577 - val_loss: 0.3738 - val_accuracy: 0.8413\n",
      "Epoch 62/100\n",
      "200/200 [==============================] - 0s 2ms/step - loss: 0.3606 - accuracy: 0.8577 - val_loss: 0.3731 - val_accuracy: 0.8400\n",
      "Epoch 63/100\n",
      "200/200 [==============================] - 0s 2ms/step - loss: 0.3598 - accuracy: 0.8587 - val_loss: 0.3745 - val_accuracy: 0.8413\n",
      "Epoch 64/100\n",
      "200/200 [==============================] - 0s 2ms/step - loss: 0.3598 - accuracy: 0.8581 - val_loss: 0.3733 - val_accuracy: 0.8375\n",
      "Epoch 65/100\n",
      "200/200 [==============================] - 0s 2ms/step - loss: 0.3589 - accuracy: 0.8595 - val_loss: 0.3724 - val_accuracy: 0.8394\n",
      "Epoch 66/100\n",
      "200/200 [==============================] - 0s 2ms/step - loss: 0.3586 - accuracy: 0.8591 - val_loss: 0.3720 - val_accuracy: 0.8413\n",
      "Epoch 67/100\n",
      "200/200 [==============================] - 0s 2ms/step - loss: 0.3582 - accuracy: 0.8594 - val_loss: 0.3719 - val_accuracy: 0.8394\n",
      "Epoch 68/100\n",
      "200/200 [==============================] - 0s 2ms/step - loss: 0.3573 - accuracy: 0.8577 - val_loss: 0.3713 - val_accuracy: 0.8394\n",
      "Epoch 69/100\n",
      "200/200 [==============================] - 0s 2ms/step - loss: 0.3567 - accuracy: 0.8589 - val_loss: 0.3710 - val_accuracy: 0.8425\n",
      "Epoch 70/100\n",
      "200/200 [==============================] - 0s 2ms/step - loss: 0.3565 - accuracy: 0.8591 - val_loss: 0.3708 - val_accuracy: 0.8419\n",
      "Epoch 71/100\n",
      "200/200 [==============================] - 0s 2ms/step - loss: 0.3561 - accuracy: 0.8595 - val_loss: 0.3703 - val_accuracy: 0.8406\n",
      "Epoch 72/100\n",
      "200/200 [==============================] - 0s 2ms/step - loss: 0.3555 - accuracy: 0.8592 - val_loss: 0.3706 - val_accuracy: 0.8419\n",
      "Epoch 73/100\n",
      "200/200 [==============================] - 0s 2ms/step - loss: 0.3548 - accuracy: 0.8586 - val_loss: 0.3710 - val_accuracy: 0.8394\n",
      "Epoch 74/100\n",
      "200/200 [==============================] - 0s 2ms/step - loss: 0.3548 - accuracy: 0.8584 - val_loss: 0.3689 - val_accuracy: 0.8413\n",
      "Epoch 75/100\n",
      "200/200 [==============================] - 0s 2ms/step - loss: 0.3536 - accuracy: 0.8594 - val_loss: 0.3689 - val_accuracy: 0.8444\n",
      "Epoch 76/100\n",
      "200/200 [==============================] - 0s 2ms/step - loss: 0.3534 - accuracy: 0.8600 - val_loss: 0.3715 - val_accuracy: 0.8406\n",
      "Epoch 77/100\n",
      "200/200 [==============================] - 0s 2ms/step - loss: 0.3536 - accuracy: 0.8598 - val_loss: 0.3690 - val_accuracy: 0.8419\n",
      "Epoch 78/100\n",
      "200/200 [==============================] - 0s 2ms/step - loss: 0.3531 - accuracy: 0.8591 - val_loss: 0.3687 - val_accuracy: 0.8419\n",
      "Epoch 79/100\n",
      "200/200 [==============================] - 0s 2ms/step - loss: 0.3529 - accuracy: 0.8587 - val_loss: 0.3682 - val_accuracy: 0.8406\n",
      "Epoch 80/100\n",
      "200/200 [==============================] - 0s 2ms/step - loss: 0.3522 - accuracy: 0.8598 - val_loss: 0.3677 - val_accuracy: 0.8425\n",
      "Epoch 81/100\n",
      "200/200 [==============================] - 0s 2ms/step - loss: 0.3522 - accuracy: 0.8602 - val_loss: 0.3677 - val_accuracy: 0.8425\n",
      "Epoch 82/100\n",
      "200/200 [==============================] - 0s 2ms/step - loss: 0.3515 - accuracy: 0.8584 - val_loss: 0.3669 - val_accuracy: 0.8419\n",
      "Epoch 83/100\n",
      "200/200 [==============================] - 0s 2ms/step - loss: 0.3516 - accuracy: 0.8603 - val_loss: 0.3668 - val_accuracy: 0.8431\n",
      "Epoch 84/100\n",
      "200/200 [==============================] - 0s 2ms/step - loss: 0.3511 - accuracy: 0.8589 - val_loss: 0.3670 - val_accuracy: 0.8413\n",
      "Epoch 85/100\n",
      "200/200 [==============================] - 0s 2ms/step - loss: 0.3507 - accuracy: 0.8605 - val_loss: 0.3676 - val_accuracy: 0.8413\n",
      "Epoch 86/100\n",
      "200/200 [==============================] - 0s 2ms/step - loss: 0.3502 - accuracy: 0.8602 - val_loss: 0.3671 - val_accuracy: 0.8406\n",
      "Epoch 87/100\n",
      "200/200 [==============================] - 0s 2ms/step - loss: 0.3499 - accuracy: 0.8608 - val_loss: 0.3660 - val_accuracy: 0.8444\n",
      "Epoch 88/100\n",
      "200/200 [==============================] - 0s 2ms/step - loss: 0.3498 - accuracy: 0.8609 - val_loss: 0.3665 - val_accuracy: 0.8425\n",
      "Epoch 89/100\n",
      "200/200 [==============================] - 0s 2ms/step - loss: 0.3496 - accuracy: 0.8589 - val_loss: 0.3662 - val_accuracy: 0.8419\n",
      "Epoch 90/100\n",
      "200/200 [==============================] - 0s 2ms/step - loss: 0.3496 - accuracy: 0.8592 - val_loss: 0.3655 - val_accuracy: 0.8444\n",
      "Epoch 91/100\n",
      "200/200 [==============================] - 0s 2ms/step - loss: 0.3489 - accuracy: 0.8611 - val_loss: 0.3659 - val_accuracy: 0.8413\n",
      "Epoch 92/100\n",
      "200/200 [==============================] - 0s 2ms/step - loss: 0.3492 - accuracy: 0.8603 - val_loss: 0.3658 - val_accuracy: 0.8450\n",
      "Epoch 93/100\n",
      "200/200 [==============================] - 0s 2ms/step - loss: 0.3488 - accuracy: 0.8598 - val_loss: 0.3650 - val_accuracy: 0.8462\n",
      "Epoch 94/100\n",
      "200/200 [==============================] - 0s 2ms/step - loss: 0.3482 - accuracy: 0.8605 - val_loss: 0.3645 - val_accuracy: 0.8444\n",
      "Epoch 95/100\n",
      "200/200 [==============================] - 0s 2ms/step - loss: 0.3483 - accuracy: 0.8603 - val_loss: 0.3643 - val_accuracy: 0.8438\n",
      "Epoch 96/100\n",
      "200/200 [==============================] - 0s 2ms/step - loss: 0.3474 - accuracy: 0.8594 - val_loss: 0.3646 - val_accuracy: 0.8444\n",
      "Epoch 97/100\n",
      "200/200 [==============================] - 0s 2ms/step - loss: 0.3474 - accuracy: 0.8622 - val_loss: 0.3649 - val_accuracy: 0.8431\n",
      "Epoch 98/100\n",
      "200/200 [==============================] - 0s 2ms/step - loss: 0.3474 - accuracy: 0.8606 - val_loss: 0.3651 - val_accuracy: 0.8425\n",
      "Epoch 99/100\n",
      "200/200 [==============================] - 0s 2ms/step - loss: 0.3471 - accuracy: 0.8602 - val_loss: 0.3653 - val_accuracy: 0.8438\n",
      "Epoch 100/100\n",
      "200/200 [==============================] - 0s 2ms/step - loss: 0.3475 - accuracy: 0.8622 - val_loss: 0.3638 - val_accuracy: 0.8450\n"
     ]
    }
   ],
   "source": [
    "# The accuracy and the validation accuracy both needs to increase and the loss needs to decrease.\n",
    "# Too many epochs can lead to overfitting issue.\n",
    "history = model.fit(X_train_scaled, y_train, epochs=100, validation_split=0.2)"
   ]
  },
  {
   "cell_type": "markdown",
   "id": "92f2d485",
   "metadata": {
    "papermill": {
     "duration": 0.060965,
     "end_time": "2023-09-28T13:40:58.509281",
     "exception": false,
     "start_time": "2023-09-28T13:40:58.448316",
     "status": "completed"
    },
    "tags": []
   },
   "source": [
    "# Visualization"
   ]
  },
  {
   "cell_type": "code",
   "execution_count": 21,
   "id": "864f02bc",
   "metadata": {
    "execution": {
     "iopub.execute_input": "2023-09-28T13:40:58.634048Z",
     "iopub.status.busy": "2023-09-28T13:40:58.632500Z",
     "iopub.status.idle": "2023-09-28T13:40:58.937173Z",
     "shell.execute_reply": "2023-09-28T13:40:58.936199Z"
    },
    "papermill": {
     "duration": 0.368882,
     "end_time": "2023-09-28T13:40:58.939425",
     "exception": false,
     "start_time": "2023-09-28T13:40:58.570543",
     "status": "completed"
    },
    "tags": []
   },
   "outputs": [
    {
     "data": {
      "text/plain": [
       "[<matplotlib.lines.Line2D at 0x7b002e744100>]"
      ]
     },
     "execution_count": 21,
     "metadata": {},
     "output_type": "execute_result"
    },
    {
     "data": {
      "image/png": "[encoded data removed]",
      "text/plain": [
       "<Figure size 640x480 with 1 Axes>"
      ]
     },
     "metadata": {},
     "output_type": "display_data"
    }
   ],
   "source": [
    "plt.plot(history.history['loss'])\n",
    "plt.plot(history.history['val_loss'])"
   ]
  },
  {
   "cell_type": "code",
   "execution_count": 22,
   "id": "b93be157",
   "metadata": {
    "execution": {
     "iopub.execute_input": "2023-09-28T13:40:59.068536Z",
     "iopub.status.busy": "2023-09-28T13:40:59.067189Z",
     "iopub.status.idle": "2023-09-28T13:40:59.328538Z",
     "shell.execute_reply": "2023-09-28T13:40:59.327325Z"
    },
    "papermill": {
     "duration": 0.329026,
     "end_time": "2023-09-28T13:40:59.331224",
     "exception": false,
     "start_time": "2023-09-28T13:40:59.002198",
     "status": "completed"
    },
    "tags": []
   },
   "outputs": [
    {
     "data": {
      "text/plain": [
       "[<matplotlib.lines.Line2D at 0x7b002e7ee110>]"
      ]
     },
     "execution_count": 22,
     "metadata": {},
     "output_type": "execute_result"
    },
    {
     "data": {
      "image/png": "[encoded data removed]",
      "text/plain": [
       "<Figure size 640x480 with 1 Axes>"
      ]
     },
     "metadata": {},
     "output_type": "display_data"
    }
   ],
   "source": [
    "plt.plot(history.history['accuracy'])\n",
    "plt.plot(history.history['val_accuracy'])"
   ]
  },
  {
   "cell_type": "code",
   "execution_count": 23,
   "id": "e5193dcd",
   "metadata": {
    "execution": {
     "iopub.execute_input": "2023-09-28T13:40:59.463359Z",
     "iopub.status.busy": "2023-09-28T13:40:59.462734Z",
     "iopub.status.idle": "2023-09-28T13:40:59.477426Z",
     "shell.execute_reply": "2023-09-28T13:40:59.476260Z"
    },
    "papermill": {
     "duration": 0.08361,
     "end_time": "2023-09-28T13:40:59.479999",
     "exception": false,
     "start_time": "2023-09-28T13:40:59.396389",
     "status": "completed"
    },
    "tags": []
   },
   "outputs": [
    {
     "data": {
      "text/plain": [
       "[array([[ 0.24233554, -0.37349945,  0.08175269,  0.4251411 , -0.10420445,\n",
       "          0.33162498, -0.16227208,  0.33691862, -0.19493914,  0.49738443,\n",
       "          0.00775333],\n",
       "        [ 0.05503674,  0.21382937,  0.15382133,  0.00758555, -0.40241036,\n",
       "         -0.171596  ,  0.6749373 , -0.39321485,  0.7418451 , -0.10382663,\n",
       "          0.07070635],\n",
       "        [ 0.17535473,  0.3575587 , -0.2845504 , -0.65977323, -0.24148177,\n",
       "          0.28770465, -0.01451438, -0.08701495, -0.02155617,  0.05042233,\n",
       "         -0.1403875 ],\n",
       "        [-0.12610793,  0.21813829, -2.3218565 , -0.23783994,  1.123037  ,\n",
       "          0.25597426, -1.9614768 , -1.265216  ,  1.7145674 ,  0.6245022 ,\n",
       "          0.80245167],\n",
       "        [ 0.20484383, -0.05455956, -0.11197007, -0.33737162,  0.02041314,\n",
       "          0.29691464,  0.58098453, -0.27334246,  0.25939286,  0.11125319,\n",
       "          0.03789433],\n",
       "        [-0.35155198, -0.49710184,  0.2517085 ,  0.8452625 ,  0.44330376,\n",
       "          0.13521688,  0.04619293,  0.26710612, -0.30111644, -0.7007929 ,\n",
       "          0.536754  ],\n",
       "        [ 0.9428387 , -0.6318379 , -0.5282633 ,  0.7965738 ,  0.76843804,\n",
       "         -0.536936  , -0.7845494 , -0.8112695 ,  0.14698413, -1.0135295 ,\n",
       "          3.834132  ],\n",
       "        [ 0.10079603, -0.05680596,  0.01470252,  0.06495228, -0.31213006,\n",
       "          0.30379897,  0.41501465,  0.11413164,  0.46494514, -0.03859202,\n",
       "          0.16877936],\n",
       "        [-1.4518956 ,  1.4865247 , -0.45762262,  0.18864411,  0.57943976,\n",
       "          0.893043  , -0.59137094, -0.8315417 ,  1.1447159 , -0.4523815 ,\n",
       "          0.3227955 ],\n",
       "        [-0.05123655,  0.15169436,  0.44591317,  0.39364302,  0.5618039 ,\n",
       "          0.14123133, -0.2762657 , -0.23065428, -0.20144597,  0.09654164,\n",
       "          0.04508448]], dtype=float32),\n",
       " array([-0.01048342, -0.35757402,  0.5163885 , -0.39630514,  0.15344489,\n",
       "        -0.4127628 ,  0.09062002, -0.60238904,  0.28061858,  0.59383905,\n",
       "         1.0076802 ], dtype=float32)]"
      ]
     },
     "execution_count": 23,
     "metadata": {},
     "output_type": "execute_result"
    }
   ],
   "source": [
    "# The value of weights and bias\n",
    "model.layers[0].get_weights()"
   ]
  },
  {
   "cell_type": "code",
   "execution_count": 24,
   "id": "7aa99e5a",
   "metadata": {
    "execution": {
     "iopub.execute_input": "2023-09-28T13:40:59.618939Z",
     "iopub.status.busy": "2023-09-28T13:40:59.618369Z",
     "iopub.status.idle": "2023-09-28T13:40:59.925789Z",
     "shell.execute_reply": "2023-09-28T13:40:59.924559Z"
    },
    "papermill": {
     "duration": 0.381434,
     "end_time": "2023-09-28T13:40:59.928775",
     "exception": false,
     "start_time": "2023-09-28T13:40:59.547341",
     "status": "completed"
    },
    "tags": []
   },
   "outputs": [
    {
     "name": "stdout",
     "output_type": "stream",
     "text": [
      "63/63 [==============================] - 0s 1ms/step\n"
     ]
    }
   ],
   "source": [
    "# The actual value of predicted score\n",
    "y_log = model.predict(X_test_scaled)"
   ]
  },
  {
   "cell_type": "markdown",
   "id": "b258edba",
   "metadata": {
    "papermill": {
     "duration": 0.062988,
     "end_time": "2023-09-28T13:41:00.055764",
     "exception": false,
     "start_time": "2023-09-28T13:40:59.992776",
     "status": "completed"
    },
    "tags": []
   },
   "source": [
    "# Converting the predicted score between 0 and 1"
   ]
  },
  {
   "cell_type": "code",
   "execution_count": 25,
   "id": "f7f1a9a1",
   "metadata": {
    "execution": {
     "iopub.execute_input": "2023-09-28T13:41:00.187293Z",
     "iopub.status.busy": "2023-09-28T13:41:00.186164Z",
     "iopub.status.idle": "2023-09-28T13:41:00.191774Z",
     "shell.execute_reply": "2023-09-28T13:41:00.190623Z"
    },
    "papermill": {
     "duration": 0.074251,
     "end_time": "2023-09-28T13:41:00.194052",
     "exception": false,
     "start_time": "2023-09-28T13:41:00.119801",
     "status": "completed"
    },
    "tags": []
   },
   "outputs": [],
   "source": [
    "# The converted value of predicted score because the sigmoid function provides a probability\n",
    "y_pred = np.where(y_log > 0.5, 1, 0)"
   ]
  },
  {
   "cell_type": "markdown",
   "id": "4fbdd3cc",
   "metadata": {
    "papermill": {
     "duration": 0.064798,
     "end_time": "2023-09-28T13:41:00.321425",
     "exception": false,
     "start_time": "2023-09-28T13:41:00.256627",
     "status": "completed"
    },
    "tags": []
   },
   "source": [
    "# Calculating the accuracy score"
   ]
  },
  {
   "cell_type": "code",
   "execution_count": 26,
   "id": "7d345ad3",
   "metadata": {
    "execution": {
     "iopub.execute_input": "2023-09-28T13:41:00.449440Z",
     "iopub.status.busy": "2023-09-28T13:41:00.448993Z",
     "iopub.status.idle": "2023-09-28T13:41:00.458321Z",
     "shell.execute_reply": "2023-09-28T13:41:00.457125Z"
    },
    "papermill": {
     "duration": 0.076404,
     "end_time": "2023-09-28T13:41:00.460345",
     "exception": false,
     "start_time": "2023-09-28T13:41:00.383941",
     "status": "completed"
    },
    "tags": []
   },
   "outputs": [
    {
     "data": {
      "text/plain": [
       "0.854"
      ]
     },
     "execution_count": 26,
     "metadata": {},
     "output_type": "execute_result"
    }
   ],
   "source": [
    "from sklearn.metrics import accuracy_score\n",
    "accuracy_score(y_test, y_pred)"
   ]
  }
 ],
 "metadata": {
  "kernelspec": {
   "display_name": "Python 3",
   "language": "python",
   "name": "python3"
  },
  "language_info": {
   "codemirror_mode": {
    "name": "ipython",
    "version": 3
   },
   "file_extension": ".py",
   "mimetype": "text/x-python",
   "name": "python",
   "nbconvert_exporter": "python",
   "pygments_lexer": "ipython3",
   "version": "3.10.12"
  },
  "papermill": {
   "default_parameters": {},
   "duration": 63.532839,
   "end_time": "2023-09-28T13:41:03.315136",
   "environment_variables": {},
   "exception": null,
   "input_path": "__notebook__.ipynb",
   "output_path": "__notebook__.ipynb",
   "parameters": {},
   "start_time": "2023-09-28T13:39:59.782297",
   "version": "2.4.0"
  }
 },
 "nbformat": 4,
 "nbformat_minor": 5
}
