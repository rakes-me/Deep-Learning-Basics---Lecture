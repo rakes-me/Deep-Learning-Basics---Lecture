{
 "cells": [
  {
   "cell_type": "markdown",
   "metadata": {},
   "source": [
    "Contents\n",
    "==\n",
    "\n",
    "[Introduction to The Kernel](#intro)<br/>\n",
    "[1. Preprocessing Data](#pre) <br/>\n",
    "&emsp;&emsp; [1.1 Reshaping Data](#reshape) <br/>\n",
    "&emsp;&emsp; [1.2 Normalizing Data](#norm) <br/>\n",
    "&emsp;&emsp; [1.3 Train-Test Split](#split) <br/>\n",
    "&emsp;&emsp; [1.4 Augmenting Data](#augment)<br/>\n",
    "[2. Building The Model](#model) <br/>\n",
    "&emsp;&emsp; [2.1 Model Architecture](#arch)<br/>\n",
    "&emsp;&emsp; [2.2 Hyperparameters Tuning](#params)<br/>\n",
    "[3. Model Evaluation](#eval) <br/>\n",
    "&emsp;&emsp; [3.1 Confusion Matrix](#metrics)<br/>\n",
    "[4. Error Analysis](#error)<br/>\n",
    "[5. General Notes](#notes)<br/>\n",
    "[6. Submission](#submit)"
   ]
  },
  {
   "cell_type": "markdown",
   "metadata": {},
   "source": [
    "<a id=\"intro\"></a>\n",
    "# Introduction to The Kernel\n"
   ]
  },
  {
   "cell_type": "markdown",
   "metadata": {},
   "source": [
    "Instead of using a MLP, I'll preprocesss the data from MNIST to attain the original images from the unravelled pixels and use a CNN as my model.\n",
    "CNNs are the best choice when it comes to image classification or any computer vision task, as well as providing relatively small number of weight parameters compared to MLP\n"
   ]
  },
  {
   "cell_type": "markdown",
   "metadata": {},
   "source": [
    "## Steps of The Kernel\n",
    "1. Preprocessing the data, which includes reshaping, normalization and images augmentation\n",
    "2. Building the model, trying different architectures and hyperparameters tuning\n",
    "3. Model Evaluation and calculating the metrics of the model's performance\n",
    "4. Error analysis and see how to improve furture performace\n",
    "5. General notes on the model and MNIST dataset"
   ]
  },
  {
   "cell_type": "markdown",
   "metadata": {},
   "source": [
    "## Importing Python Modules\n",
    "* **Data Handling:** numpy, pandas\n",
    "* **DL Model Building:** keras \n",
    "* **Preprocessing:** keras, sklearn\n",
    "* **Evaluation Metrics:** sklearn\n",
    "* **Visualization:** matplotlib, seaborn, IPython.display"
   ]
  },
  {
   "cell_type": "code",
   "execution_count": 1,
   "metadata": {
    "_cell_guid": "b1076dfc-b9ad-4769-8c92-a6c4dae69d19",
    "_uuid": "8f2839f25d086af736a60e9eeb907d3b93b6e0e5"
   },
   "outputs": [
    {
     "ename": "ImportError",
     "evalue": "cannot import name 'pooling' from 'keras.layers' (D:\\code\\cuda\\lib\\site-packages\\keras\\layers\\__init__.py)",
     "output_type": "error",
     "traceback": [
      "\u001b[1;31m---------------------------------------------------------------------------\u001b[0m",
      "\u001b[1;31mImportError\u001b[0m                               Traceback (most recent call last)",
      "Cell \u001b[1;32mIn[1], line 8\u001b[0m\n\u001b[0;32m      6\u001b[0m \u001b[38;5;28;01mimport\u001b[39;00m \u001b[38;5;21;01mkeras\u001b[39;00m\n\u001b[0;32m      7\u001b[0m \u001b[38;5;28;01mfrom\u001b[39;00m \u001b[38;5;21;01mkeras\u001b[39;00m \u001b[38;5;28;01mimport\u001b[39;00m Model\n\u001b[1;32m----> 8\u001b[0m \u001b[38;5;28;01mfrom\u001b[39;00m \u001b[38;5;21;01mkeras\u001b[39;00m\u001b[38;5;21;01m.\u001b[39;00m\u001b[38;5;21;01mlayers\u001b[39;00m \u001b[38;5;28;01mimport\u001b[39;00m Dense, Conv2D, pooling, Activation, BatchNormalization, Input, Flatten, Dropout, MaxPooling2D\n\u001b[0;32m      9\u001b[0m \u001b[38;5;28;01mfrom\u001b[39;00m \u001b[38;5;21;01mkeras\u001b[39;00m\u001b[38;5;21;01m.\u001b[39;00m\u001b[38;5;21;01mpreprocessing\u001b[39;00m\u001b[38;5;21;01m.\u001b[39;00m\u001b[38;5;21;01mimage\u001b[39;00m \u001b[38;5;28;01mimport\u001b[39;00m ImageDataGenerator\n\u001b[0;32m     10\u001b[0m \u001b[38;5;28;01mfrom\u001b[39;00m \u001b[38;5;21;01mkeras\u001b[39;00m\u001b[38;5;21;01m.\u001b[39;00m\u001b[38;5;21;01mcallbacks\u001b[39;00m \u001b[38;5;28;01mimport\u001b[39;00m ReduceLROnPlateau\n",
      "\u001b[1;31mImportError\u001b[0m: cannot import name 'pooling' from 'keras.layers' (D:\\code\\cuda\\lib\\site-packages\\keras\\layers\\__init__.py)"
     ]
    }
   ],
   "source": [
    "# import NumPy and Panas\n",
    "import numpy as np \n",
    "import pandas as pd\n",
    "\n",
    "# import Keras and its layers\n",
    "import keras\n",
    "from keras import Model\n",
    "from keras.layers import Dense, Conv2D, pooling, Activation, BatchNormalization, Input, Flatten, Dropout, MaxPooling2D\n",
    "from keras.preprocessing.image import ImageDataGenerator\n",
    "from keras.callbacks import ReduceLROnPlateau\n",
    "\n",
    "# import preprocessing functions and metrics\n",
    "from sklearn.model_selection import train_test_split\n",
    "from sklearn.metrics import confusion_matrix, f1_score\n",
    "\n",
    "# import matplotlib and seaborn for visualization\n",
    "import matplotlib.pyplot as plt\n",
    "import seaborn as sns\n",
    "from IPython.display import clear_output\n",
    "\n",
    "# import time for checkpoint saving\n",
    "import time"
   ]
  },
  {
   "cell_type": "markdown",
   "metadata": {},
   "source": [
    "Firstly, let's use pandas to load the data and see how is it structured"
   ]
  },
  {
   "cell_type": "code",
   "execution_count": null,
   "metadata": {
    "_cell_guid": "79c7e3d0-c299-4dcb-8224-4455121ee9b0",
    "_uuid": "d629ff2d2480ee46fbb7e2d37f6b5fab8052498a"
   },
   "outputs": [],
   "source": [
    "train_data = pd.read_csv('../input/train.csv')\n",
    "test_data = pd.read_csv('../input/test.csv')"
   ]
  },
  {
   "cell_type": "code",
   "execution_count": null,
   "metadata": {},
   "outputs": [],
   "source": [
    "pd.set_option('display.max_columns', 6)\n",
    "print(train_data.head(10), '\\n')\n",
    "print(test_data.head(10), '\\n')\n",
    "\n",
    "print(f'train data shape: {train_data.shape}')\n",
    "print(f'test data shape: {test_data.shape}')"
   ]
  },
  {
   "cell_type": "markdown",
   "metadata": {},
   "source": [
    "The test dataset here is unlabelled and can only be used for the kernel submission, so we can only judge the model's performance on it manually."
   ]
  },
  {
   "cell_type": "markdown",
   "metadata": {},
   "source": [
    "<a id=\"pre\"></a>\n",
    "# 1. Preprocessing Data\n"
   ]
  },
  {
   "cell_type": "markdown",
   "metadata": {},
   "source": [
    "<a id=\"reshape\"></a>\n",
    "## 1.1 Reshaping Data\n",
    "\n",
    "The first step to do is to reshape the data to obtain the original images\n"
   ]
  },
  {
   "cell_type": "code",
   "execution_count": null,
   "metadata": {},
   "outputs": [],
   "source": [
    "# storing the labeled dataset in numpy arrays\n",
    "dataset_x = np.array(train_data.iloc[:, 1:]).reshape(42000, 28, 28, 1)\n",
    "dataset_y = np.array(train_data.iloc[:, 0]).ravel()\n",
    "\n",
    "# one-hot encoded labels instead of digits to use in categorical/multi-class classification\n",
    "dataset_one_hot = keras.utils.to_categorical(dataset_y, num_classes=10)\n",
    "\n",
    "# storing the unlabelled dataset in a numpy array for manual model testing\n",
    "unlabelled_test_x = np.array(test_data.iloc[:, :]).reshape(28000, 28, 28, 1)\n",
    "\n",
    "# make sure that the number of examples equals the number of labels after reshaping\n",
    "assert(dataset_x.shape[0] == dataset_y.size)"
   ]
  },
  {
   "cell_type": "markdown",
   "metadata": {},
   "source": [
    "To make sure that our dataset has almost equal representation (equal number of examples) for all classes so that the model doesn't train on one class over another, we'll plot a countplot of the labels in the dataset."
   ]
  },
  {
   "cell_type": "code",
   "execution_count": null,
   "metadata": {},
   "outputs": [],
   "source": [
    "# To get more control over visualization we'll define our figure instead of simply using plt.\n",
    "fig = plt.figure(figsize=(8, 8))  # create figure\n",
    "ax = fig.add_subplot(111)  # add subplot\n",
    "\n",
    "sns.countplot(dataset_y);\n",
    "ax.set_title(f'Labelled Digits Count ({dataset_y.size} total)', size=20);\n",
    "ax.set_xlabel('Digits');\n",
    "\n",
    "# writes the counts on each bar\n",
    "for patch in ax.patches:\n",
    "        ax.annotate('{:}'.format(patch.get_height()), (patch.get_x()+0.1, patch.get_height()-150), color='w')"
   ]
  },
  {
   "cell_type": "markdown",
   "metadata": {},
   "source": [
    "<a id=\"norm\"></a>\n",
    "## 1.2 Normalizing Data\n",
    "\n",
    "Next step is to normalize the data, so that they get a value between 0 and 1.\n",
    "\n",
    "This will make the model train more efficiently as it will reduce the variance in the dataset distribution, so the activations of different examples won't have big differences.\n",
    "\n",
    "Think about it as if the image lies in 784-dim space (Features Space) and by normalizing we are making all the images bound by a hypersphere of radius 1"
   ]
  },
  {
   "cell_type": "code",
   "execution_count": null,
   "metadata": {},
   "outputs": [],
   "source": [
    "dataset_x = dataset_x / 255.0\n",
    "unlabelled_test_x = unlabelled_test_x / 255.0"
   ]
  },
  {
   "cell_type": "markdown",
   "metadata": {},
   "source": [
    "Let's see how the images look after reshaping."
   ]
  },
  {
   "cell_type": "code",
   "execution_count": null,
   "metadata": {},
   "outputs": [],
   "source": [
    "fig, axs = plt.subplots(1, 5, figsize=(25, 5))\n",
    "indexes = np.random.choice(range(dataset_x.shape[2]), size=5)  # returns random 5 indexes\n",
    "\n",
    "fig.suptitle('Original Images of MNIST', size=32)\n",
    "for idx, ax in zip(indexes, axs):\n",
    "    ax.imshow(dataset_x[idx,:, :, 0], cmap='gray');\n",
    "    ax.set_title(f'Label: {dataset_y[idx]}', size= 20);"
   ]
  },
  {
   "cell_type": "markdown",
   "metadata": {},
   "source": [
    "<a id=\"split\"></a>\n",
    "## 1.3 Train-Test Split\n",
    "\n",
    "Since the test dataset is unlabelled we'll be taking a portion of the labelled dataset to use as a test set and to evaluate the model's metrics on."
   ]
  },
  {
   "cell_type": "code",
   "execution_count": null,
   "metadata": {},
   "outputs": [],
   "source": [
    "train_x, test_x, train_y, test_y = train_test_split(dataset_x, dataset_one_hot, test_size=0.1)"
   ]
  },
  {
   "cell_type": "markdown",
   "metadata": {},
   "source": [
    "Since the dataset size is small we'll use an augmented images generator to give images from the same distribution as the examples in the train dataset but not necessairly the original examples."
   ]
  },
  {
   "cell_type": "markdown",
   "metadata": {},
   "source": [
    "<a id=\"augment\"></a>\n",
    "## 1.4 Augmenting Data"
   ]
  },
  {
   "cell_type": "code",
   "execution_count": null,
   "metadata": {},
   "outputs": [],
   "source": [
    "# Augmentation Ranges\n",
    "# Large values might lead to insignificant outliers or noisy examples\n",
    "transform_params = {\n",
    "    'featurewise_center': False,\n",
    "    'featurewise_std_normalization': False,\n",
    "    'samplewise_center': False,\n",
    "    'samplewise_std_normalization': False,\n",
    "    'rotation_range': 10, \n",
    "    'width_shift_range': 0.1, \n",
    "    'height_shift_range': 0.1,\n",
    "#     'shear_range': 0.15, \n",
    "    'zoom_range': 0.1,\n",
    "    'validation_split': 0.15\n",
    "}\n",
    "img_gen = ImageDataGenerator(**transform_params) "
   ]
  },
  {
   "cell_type": "markdown",
   "metadata": {},
   "source": [
    "The augmentation generator will only use the train portion we got from the split.\n",
    "The model must never learn from the test images or even their augmentations, to have a meaningful performance and error analysis."
   ]
  },
  {
   "cell_type": "code",
   "execution_count": null,
   "metadata": {},
   "outputs": [],
   "source": [
    "# used only to visualize the augmentations\n",
    "visualizaion_flow = img_gen.flow(train_x, train_y, batch_size=1, shuffle=False)\n",
    "\n",
    "# used to feed the model augmented training data\n",
    "train_gen = img_gen.flow(x=train_x, y=train_y, subset='training', batch_size=96)\n",
    "\n",
    "# used to feed the model augmented validation data\n",
    "valid_gen = img_gen.flow(x=train_x, y=train_y, subset='validation', batch_size=96)"
   ]
  },
  {
   "cell_type": "markdown",
   "metadata": {},
   "source": [
    "The valid_gen used for validation will also use the training dataset from the split, as we said before that the model must never learn from the test data.\n",
    "\n",
    "So, we are performing another split of the labelled dataset."
   ]
  },
  {
   "cell_type": "markdown",
   "metadata": {},
   "source": [
    "Now, let's visualize how the generator augments the original images"
   ]
  },
  {
   "cell_type": "code",
   "execution_count": null,
   "metadata": {},
   "outputs": [],
   "source": [
    "fig, axs = plt.subplots(2, 4, figsize=(20,10))  # let's see 4 augmentation examples\n",
    "fig.suptitle('Augmentation Results', size=32)\n",
    "\n",
    "for axs_col in range(axs.shape[1]):\n",
    "    idx = np.random.randint(0, train_x.shape[0])  # get a random index\n",
    "    img = train_x[idx,:, :, 0]  # the original image\n",
    "    aug_img, aug_label = visualizaion_flow[idx]  # the same image after augmentation\n",
    "    \n",
    "    axs[0, axs_col].imshow(img, cmap='gray');\n",
    "    axs[0, axs_col].set_title(f'example #{axs_col} - Label: {np.argmax(train_y[idx])}', size=20)\n",
    "    \n",
    "    axs[1, axs_col].imshow(aug_img[0, :, :, 0], cmap='gray');\n",
    "    axs[1, axs_col].set_title(f'Augmented example #{axs_col}', size=20)"
   ]
  },
  {
   "cell_type": "markdown",
   "metadata": {},
   "source": [
    "As we can see the new images are very similar but not quite the original ones.\n",
    "The model augments data randomly each time the training requires a new batch of images, so the model isn't training on the same examples exactly at each epoch which is the case if we have simply fitted the model using the original images. "
   ]
  },
  {
   "cell_type": "markdown",
   "metadata": {},
   "source": [
    "<a id=\"model\"></a>\n",
    "# 2. Building The Model"
   ]
  },
  {
   "cell_type": "markdown",
   "metadata": {},
   "source": [
    "Let's first define a Convolution Block to avoid repition while building our model.\n",
    "\n",
    "It consists of\n",
    "1. 2D Convolution - extracts features\n",
    "2. BatchNormalization - enhances training efficiency and reduces Vanishing/Exploding Gradients effect\n",
    "3. ReLU Activation Function\n",
    "4. 2D Max Pool - optional, reduces overfitting and reduces the shape of the tensor "
   ]
  },
  {
   "cell_type": "markdown",
   "metadata": {},
   "source": [
    "<a id=\"arch\"></a>\n",
    "## 2.1 Model Architecture"
   ]
  },
  {
   "cell_type": "code",
   "execution_count": null,
   "metadata": {},
   "outputs": [],
   "source": [
    "def conv_block(x, filters, kernel_size, strides, layer_no, use_pool=False, padding='same'):\n",
    "    x = Conv2D(filters=filters, kernel_size=kernel_size, strides=strides, name=f'conv{layer_no}',\n",
    "               padding=padding)(x)\n",
    "    \n",
    "    x = BatchNormalization(name=f'bn{layer_no}')(x)\n",
    "    x = Activation('relu', name=f'activation{layer_no}')(x)\n",
    "    if use_pool:\n",
    "        x = MaxPooling2D(pool_size=[2, 2], strides=[2, 2], name=f'pool{layer_no}', padding='same')(x)\n",
    "    return x"
   ]
  },
  {
   "cell_type": "markdown",
   "metadata": {},
   "source": [
    "After trying multiple architectures, the final one is\n",
    "\n",
    "\n",
    "<li> Input Layer </li>\n",
    "|\n",
    "<li> Series of ConvBloccks (conv1 to conv6)  </li>\n",
    "| \n",
    "<li> Flatten Layer </li>\n",
    "<li> Dropout  </li>\n",
    "|\n",
    "<li> Fully-Connected Layer  </li>\n",
    "<li> BatchNormalization  </li>\n",
    "<li> Dropout  </li>\n",
    "<li> ReLU Activation Function  </li>\n",
    "| \n",
    "<li> Fully-Connected Layer  </li>\n",
    "<li> BatchNormalization  </li>\n",
    "<li> Softmax Activation Function </li>"
   ]
  },
  {
   "cell_type": "code",
   "execution_count": null,
   "metadata": {},
   "outputs": [],
   "source": [
    "def conv_model(X):\n",
    "    h, w, c = X.shape[1:]  # get shape of input (height, width, channels)\n",
    "    X = Input(shape=(h, w, c))\n",
    "    conv1 = conv_block(X, filters=8, kernel_size=[3, 3], strides=[1, 1], layer_no=1)\n",
    "    conv2 = conv_block(conv1, filters=16, kernel_size=[2, 2], strides=[1, 1], layer_no=2)\n",
    "    conv3 = conv_block(conv2, filters=32, kernel_size=[2, 2], strides=[1, 1], layer_no=3, use_pool=True)\n",
    "    \n",
    "    conv4 = conv_block(conv3, filters=64, kernel_size=[3, 3], strides=[2, 2], layer_no=4)\n",
    "    conv5 = conv_block(conv4, filters=128, kernel_size=[2, 2], strides=[1, 1], layer_no=5)\n",
    "    conv6 = conv_block(conv5, filters=256, kernel_size=[2, 2], strides=[1, 1], layer_no=6, use_pool=True)\n",
    "    \n",
    "    flat1 = Flatten(name='flatten1')(conv6)\n",
    "    drop1 = Dropout(0.35, name='Dopout1')(flat1)\n",
    "    \n",
    "    dens1 = Dense(128, name='dense1')(drop1)\n",
    "    bn7 = BatchNormalization(name='bn7')(dens1)\n",
    "    drop2 = Dropout(0.35, name='Dopout2')(bn7)\n",
    "    relu1 = Activation('relu', name='activation7')(drop2)\n",
    "    \n",
    "    dens1 = Dense(256, name='dense01')(relu1)\n",
    "    bn7 = BatchNormalization(name='bn07')(dens1)\n",
    "    drop2 = Dropout(0.5, name='Dopout02')(bn7)\n",
    "    relu1 = Activation('relu', name='activation07')(drop2)\n",
    "    \n",
    "    dens2 = Dense(10, name='dense2')(relu1)\n",
    "    bn8 = BatchNormalization(name='bn8')(dens2)\n",
    "    output_layer = Activation('softmax', name='softmax')(bn8)\n",
    "    \n",
    "    model = Model(inputs=X, outputs=output_layer)\n",
    "    return model"
   ]
  },
  {
   "cell_type": "code",
   "execution_count": null,
   "metadata": {},
   "outputs": [],
   "source": [
    "# create the model\n",
    "model = conv_model(train_x)"
   ]
  },
  {
   "cell_type": "markdown",
   "metadata": {},
   "source": [
    "<a id=\"params\"></a>\n",
    "## 2.2 Hyperparameters Tuning"
   ]
  },
  {
   "cell_type": "markdown",
   "metadata": {},
   "source": [
    "One of the hyperparameters to tune is the learning rate and the decay.\n",
    "Funnily enough, I found a decay rate equal to half of the learning rate that I used works pretty well.\n",
    "If you want, I suggest taking a look at keras annealers to raise the efficiency of training even more."
   ]
  },
  {
   "cell_type": "code",
   "execution_count": null,
   "metadata": {},
   "outputs": [],
   "source": [
    "def build_model(learning_rate=0.00065):\n",
    "    optimizer = keras.optimizers.RMSprop(lr=learning_rate, decay=learning_rate/2)\n",
    "    model.compile(optimizer=optimizer, loss='categorical_crossentropy', metrics=['accuracy'])"
   ]
  },
  {
   "cell_type": "code",
   "execution_count": null,
   "metadata": {},
   "outputs": [],
   "source": [
    "# not used - add to callbacks if wanted\n",
    "plateau_reduce = ReduceLROnPlateau(monitor='val_acc', factor=0.5,\n",
    "                              patience=6, min_lr=0.0000001)"
   ]
  },
  {
   "cell_type": "code",
   "execution_count": null,
   "metadata": {},
   "outputs": [],
   "source": [
    "# build the model computational graph and print out its summary\n",
    "build_model()\n",
    "model.summary()"
   ]
  },
  {
   "cell_type": "markdown",
   "metadata": {},
   "source": [
    "To have an updated visualization of the training process to see how it's doing over ep-ochs instead of just looking at values prointed out each epoch, we'll build a Plotter class to serve as a keras callback which keras executes it's methods on different milestones in the training."
   ]
  },
  {
   "cell_type": "code",
   "execution_count": null,
   "metadata": {},
   "outputs": [],
   "source": [
    "class Plotter(keras.callbacks.Callback):\n",
    "    def plot(self):  # Updates the graph\n",
    "        clear_output(wait=True)\n",
    "        fig, (ax1, ax2) = plt.subplots(1, 2, figsize=(16, 8))\n",
    "        fig.suptitle('Training Curves', size=32)\n",
    "        \n",
    "        # plot the losses\n",
    "        ax1.plot(self.epochs, self.losses, label='train_loss')\n",
    "        ax1.plot(self.epochs, self.val_losses, label='val_loss')\n",
    "        \n",
    "        # plot the accuracies\n",
    "        ax2.plot(self.epochs, self.acc, label='train_acc')\n",
    "        ax2.plot(self.epochs, self.val_acc, label='val_acc')\n",
    "    \n",
    "        ax1.set_title(f'Loss vs Epochs')\n",
    "        ax1.set_xlabel(\"Epochs\")\n",
    "        ax1.set_ylabel(\"Loss\")\n",
    "        \n",
    "        ax2.set_title(f'Accuracy vs Epochs')\n",
    "        ax2.set_xlabel(\"Epochs\")\n",
    "        ax2.set_ylabel(\"Accuracy\")\n",
    "        \n",
    "        ax1.legend()\n",
    "        ax2.legend()\n",
    "        plt.show()\n",
    "        \n",
    "        # print out the accuracies at each epoch\n",
    "        print(f'Epoch #{self.epochs[-1]+1} >> train_acc={self.acc[-1]:.5f}, val_acc={self.val_acc[-1]:.5f}')\n",
    "    \n",
    "    def on_train_begin(self, logs={}):\n",
    "        # initialize lists to store values from training\n",
    "        self.losses = []\n",
    "        self.val_losses = []\n",
    "        self.epochs = []\n",
    "        self.batch_no = []\n",
    "        self.acc = []\n",
    "        self.val_acc = []\n",
    "    \n",
    "    def on_epoch_end(self, epoch, logs={}):\n",
    "        # append values from the last epoch\n",
    "        self.losses.append(logs.get('loss'))\n",
    "        self.val_losses.append(logs.get('val_loss'))\n",
    "        self.acc.append(logs.get('acc'))\n",
    "        self.val_acc.append(logs.get('val_acc'))\n",
    "        self.epochs.append(epoch)\n",
    "        self.plot()  # update the graph\n",
    "        \n",
    "    def on_train_end(self, logs={}):\n",
    "        self.plot()\n",
    "               \n",
    "plotter = Plotter()"
   ]
  },
  {
   "cell_type": "code",
   "execution_count": null,
   "metadata": {},
   "outputs": [],
   "source": [
    "use_generator = True  # toggles between using the augmentation generator or the original images"
   ]
  },
  {
   "cell_type": "markdown",
   "metadata": {},
   "source": [
    "The learning rate and the batch size are already tuned, the only one that remains is the number of epochs."
   ]
  },
  {
   "cell_type": "code",
   "execution_count": null,
   "metadata": {},
   "outputs": [],
   "source": [
    "callbacks = [plotter]"
   ]
  },
  {
   "cell_type": "code",
   "execution_count": null,
   "metadata": {},
   "outputs": [],
   "source": [
    "if use_generator:\n",
    "    model.fit_generator(train_gen, validation_data=valid_gen, epochs=120, \n",
    "                        steps_per_epoch=train_x.shape[0]*0.85//96, \n",
    "                        validation_steps=train_x.shape[0]*0.15//96, callbacks=callbacks)\n",
    "else:\n",
    "    model.fit(x=train_x, y=train_y, epochs=80, batch_size=32, callbacks=callbacks,\n",
    "              validation_split=0.15)"
   ]
  },
  {
   "cell_type": "code",
   "execution_count": null,
   "metadata": {},
   "outputs": [],
   "source": [
    "# save model\n",
    "keras.models.save_model(model, f'model_{time.time()}.h5')"
   ]
  },
  {
   "cell_type": "markdown",
   "metadata": {},
   "source": [
    "Since we're using Dropout, it's not surprising to see the training accuracy less than the validation accuracy.\n",
    "That's because Dropout is used only in training to prevent overfitting, then disabled in both validation and testing.\n",
    "\n",
    "Dropout shuts down some neurons randonly each training step, so it's like using multiple weaker models during training."
   ]
  },
  {
   "cell_type": "markdown",
   "metadata": {},
   "source": [
    "<a id=\"eval\"></a>\n",
    "# 3. Model Evaluation"
   ]
  },
  {
   "cell_type": "markdown",
   "metadata": {},
   "source": [
    "The calculate_performace function will calculate the accuracy and gives back data about the falses of the model's predictions to visualize and analyze them"
   ]
  },
  {
   "cell_type": "code",
   "execution_count": null,
   "metadata": {},
   "outputs": [],
   "source": [
    "def calculate_performance(labels, pred, dataset):\n",
    "    pred_cat = np.argmax(pred, axis=1)  # categorical predictions 0-9\n",
    "    labels_cat = np.argmax(labels, axis=1)  # categorical labels 0-9\n",
    "    \n",
    "    # a boolean vector of element-wise comparison between prediction and label\n",
    "    corrects = (pred_cat == labels_cat)\n",
    "    \n",
    "    # get the falses data\n",
    "    falses = dataset[~corrects]  # the falses images\n",
    "    falses_labels = labels_cat[~corrects]  # true labels of the falsely classified images - categorical\n",
    "    falses_preds = pred[~corrects]  # the false predictions of the images - 10-dim prediction\n",
    "     \n",
    "    examples_num = labels.shape[0]  # total numbers of examples\n",
    "    accuracy = np.count_nonzero(corrects) / examples_num\n",
    "\n",
    "    return accuracy, [falses, falses_labels, falses_preds], [labels_cat, pred_cat]"
   ]
  },
  {
   "cell_type": "markdown",
   "metadata": {},
   "source": [
    "Even though we used augmented versions of the training dataset while training we can't use it to get intuition of the model's performance or metrics because it in a way learnt from these images.\n",
    "\n",
    "Note that augmentation would give an augmented image, in the Features Space, very close to the original image so the hyperplane which is our model would very likely classify the original image correctly."
   ]
  },
  {
   "cell_type": "markdown",
   "metadata": {},
   "source": [
    "We'll only test our model on the original training examples to make sure it's performace is very high as expected and to work as a debug point if we notrice that there's something off about it's performance."
   ]
  },
  {
   "cell_type": "markdown",
   "metadata": {},
   "source": [
    "<a id=\"metrics\"></a>\n",
    "## 3.1 Confusion Matrix"
   ]
  },
  {
   "cell_type": "code",
   "execution_count": null,
   "metadata": {},
   "outputs": [],
   "source": [
    "train_pred = model.predict(train_x)  # predict the whole training dataset\n",
    "\n",
    "# calculate the accuracy over the whole dataset and get information about falses\n",
    "train_accuracy, train_falses_data, (true_labels, pred_labels) = calculate_performance(train_y, train_pred ,train_x)\n",
    "\n",
    "print(f'Don\\'t use as a metric - Original Training Dataset Accuracy: {np.round(train_accuracy*100, 3)}%')\n",
    "\n",
    "plt.figure(figsize=(10, 10))\n",
    "\n",
    "# Calculate the confusion matrix and visualize it\n",
    "train_matrix = confusion_matrix(y_pred=pred_labels, y_true=true_labels)\n",
    "sns.heatmap(data=train_matrix, annot=True, cmap='Blues', fmt=f'.0f')\n",
    "\n",
    "plt.title('Confusion Matrix - Training Dataset', size=24)\n",
    "plt.xlabel('Predictions', size=20);\n",
    "plt.ylabel('Labels', size=20);\n"
   ]
  },
  {
   "cell_type": "markdown",
   "metadata": {},
   "source": [
    "We'll gain insight from the model evaluation on the test dataset.\n",
    "For exapmle, we can find out if a false classifications to a certain digit is biased towards another specific digit."
   ]
  },
  {
   "cell_type": "code",
   "execution_count": null,
   "metadata": {},
   "outputs": [],
   "source": [
    "test_pred = model.predict(test_x)  # predict the whole test dataset\n",
    "\n",
    "# calculate the accuracy over the whole dataset and get information about falses\n",
    "test_accuracy, test_falses_data, (true_labels, pred_labels) = calculate_performance(test_y, test_pred, test_x)\n",
    "\n",
    "print(f'Test Dataset Accuracy: {np.round(test_accuracy*100, 3)}%')\n",
    "\n",
    "plt.figure(figsize=(10, 10))\n",
    "\n",
    "# Calculate the confusion matrix and visualize it\n",
    "test_matrix = confusion_matrix(y_pred=pred_labels, y_true=true_labels)\n",
    "sns.heatmap(data=test_matrix, annot=True, cmap='Blues', fmt=f'.0f')\n",
    "\n",
    "plt.title('Confusion Matrix - Test Dataset', size=24)\n",
    "plt.xlabel('Predictions', size=20);\n",
    "plt.ylabel('Labels', size=20);"
   ]
  },
  {
   "cell_type": "markdown",
   "metadata": {},
   "source": [
    "**You should be getting a model's accurace around 99.5% on the test dataset.** <br/>\n",
    "** Note that the accuracy will be different for each run of the kernel, but all of them would almost be equal.**\n",
    "\n",
    "\n",
    "Our model has better acuracy on both Training and Test Datasets than the generated images meaning that the generated images were harder for the model, but they are all very close as they all fall into the same distribution."
   ]
  },
  {
   "cell_type": "markdown",
   "metadata": {},
   "source": [
    "Let's visualize random examples predictions from the test dataset."
   ]
  },
  {
   "cell_type": "code",
   "execution_count": null,
   "metadata": {},
   "outputs": [],
   "source": [
    "random_idx = np.random.choice(range(test_y.shape[0]), size=10)  # get random 10 indexes\n",
    "\n",
    "examples = test_x[random_idx]  # the images\n",
    "preds = model.predict(examples)  # the predictions - 10-dim probabilities\n",
    "labels = np.argmax(test_y[random_idx], axis=1)  # the labels - categorical\n",
    "preds_cat = np.argmax(preds, axis=1)  # the predictions - categorical"
   ]
  },
  {
   "cell_type": "code",
   "execution_count": null,
   "metadata": {},
   "outputs": [],
   "source": [
    "fig, axs = plt.subplots(2, 5, figsize=(28, 12));\n",
    "fig.suptitle('Model Predictions - Test Dataset', size=32)\n",
    "\n",
    "for ax, pred, pred_prob, label, example in zip(axs.ravel(), preds_cat, preds, labels, examples):\n",
    "    ax.imshow(example[:, :, 0] ,cmap='gray');\n",
    "    ax.set_title(f'Label: {label}\\nPrediction: {pred} with {np.round(np.max(pred_prob)*100, 3)}% Confidence.',\n",
    "                size = 15)\n",
    "    ax.axis('off')"
   ]
  },
  {
   "cell_type": "markdown",
   "metadata": {},
   "source": [
    "Very Good!\n",
    "We can see that the model classifies the imgaes not only correctly but with a great confidence.\n",
    "It's acceptable if there is some of examples that the model clssifies correctly but with a confidence/probability less than 0.5 on hard examples \n",
    "To judge the model fairly if it's doing well or not on a certain image, we should ask ourselves 2 questions:\n",
    "\n",
    "**1. Is a human being able to classify the image corerectly with great confidence?**\n",
    "    Maybe the image is a very hard example (blurry, unclear...etc)\n",
    "\n",
    "\n",
    "**2. How does the prediction's probability fare when compared to random chance?** Each class has a 10% probability if chosen randomly, so if the model's probability of a correctly classified image is above 10% then it has some knowledge about classifying the class correctly, not a lot but some."
   ]
  },
  {
   "cell_type": "markdown",
   "metadata": {},
   "source": [
    "Let's visualize random examples from the unlablled dataset and see how the model performs"
   ]
  },
  {
   "cell_type": "code",
   "execution_count": null,
   "metadata": {},
   "outputs": [],
   "source": [
    "random_idx = np.random.choice(range(test_y.shape[0]), size=10)  # get random 10 indexes\n",
    "\n",
    "examples = unlabelled_test_x[random_idx]  # the images\n",
    "preds = model.predict(examples)  # the predictions - 10-dim probabilities\n",
    "preds_cat = np.argmax(preds, axis=1)  # the predictions - categorical"
   ]
  },
  {
   "cell_type": "code",
   "execution_count": null,
   "metadata": {},
   "outputs": [],
   "source": [
    "fig, axs = plt.subplots(2, 5, figsize=(30, 12));\n",
    "fig.suptitle('Predictions of Unlabelled Images', size=32)\n",
    "\n",
    "for ax, pred, pred_prob, example in zip(axs.ravel(), preds_cat, preds, examples):\n",
    "    ax.imshow(example[:, :, 0] ,cmap='gray');\n",
    "    ax.set_title(f'Prediction: {pred} with {np.round(np.max(pred_prob)*100, 3)}% Confidence.', size = 15)\n",
    "    ax.axis('off')"
   ]
  },
  {
   "cell_type": "markdown",
   "metadata": {},
   "source": [
    "<a id=\"error\"></a>\n",
    "# 4. Error Analysis"
   ]
  },
  {
   "cell_type": "markdown",
   "metadata": {},
   "source": [
    "Analyzing Falses and Errors to find out where the model fails and hopefully gain an intuition on how to enhance it.\n"
   ]
  },
  {
   "cell_type": "markdown",
   "metadata": {},
   "source": [
    "Checking the error of the test dataset as the model hasn't seen its examples or augmented versions of them before, so they would serve as a fair test to help us find out where our model fails."
   ]
  },
  {
   "cell_type": "code",
   "execution_count": null,
   "metadata": {},
   "outputs": [],
   "source": [
    "# checking the falses of the test dataset\n",
    "falses_data = test_falses_data # set the dataset to check\n",
    "falses_examples, falses_labels, falses_preds = falses_data\n",
    "falses_idx = np.argmax(falses_preds, axis=1)"
   ]
  },
  {
   "cell_type": "markdown",
   "metadata": {},
   "source": [
    "By plotting a countbar of the labels of the images that were misclassified, we can see if there's any Digit that the model needs to train on more.\n",
    "\n",
    "\n",
    "The confusion matrix would help us find if the misclassifications of one digit are heavily biased towards another digit.\n",
    "This can happen to similar digits like 4 and 9"
   ]
  },
  {
   "cell_type": "code",
   "execution_count": null,
   "metadata": {},
   "outputs": [],
   "source": [
    "fig, (ax1, ax2) = plt.subplots(1, 2, figsize=(16, 8))\n",
    "fig.suptitle('False Classifications Plots', size=32)\n",
    "\n",
    "sns.countplot(falses_labels, ax=ax1);\n",
    "ax1.set_title(f'Falses ({falses_labels.size} total)',size=20);\n",
    "ax1.set_xlabel('Digits', size=15);\n",
    "ax1.set_ylabel('Count', size=15);\n",
    "\n",
    "for patch in ax1.patches:\n",
    "    bar_height = patch.get_height()\n",
    "    ax1.annotate(f'{bar_height}', (patch.get_x()+0.25, bar_height-0.2), color='w', size=15);\n",
    "    \n",
    "\n",
    "falses_matrix = confusion_matrix(y_pred=falses_idx, y_true=falses_labels)\n",
    "sns.heatmap(data=falses_matrix, annot=True, cmap='Blues', fmt=f'.0f')\n",
    "\n",
    "plt.xlabel('Predictions', size=20);\n",
    "plt.ylabel('Labels', size=20);\n"
   ]
  },
  {
   "cell_type": "markdown",
   "metadata": {},
   "source": [
    "As we can see, the number of the misclassified images is rather small compared to the dataset size.\n",
    "The misclassifications aren't exclusive to one digit in particular even if some digits have more number of falses than other ones.\n",
    "\n",
    "\n",
    "The confusion matrix displays an almost equal spread which means there's no falses that are biaseds towards a certain digit."
   ]
  },
  {
   "cell_type": "markdown",
   "metadata": {},
   "source": [
    "Let's visualize some of the flase predictions, to try to get more of an understanding of the model's misclassifications."
   ]
  },
  {
   "cell_type": "code",
   "execution_count": null,
   "metadata": {},
   "outputs": [],
   "source": [
    "random_falses = np.random.choice(range(falses_labels.size), size=np.min((10, falses_labels.size)), replace=False)\n",
    "\n",
    "examples = falses_examples[random_falses]\n",
    "preds_probs = falses_preds[random_falses]\n",
    "labels = falses_labels[random_falses]\n",
    "preds_binary = np.argmax(preds_probs, axis=1)"
   ]
  },
  {
   "cell_type": "code",
   "execution_count": null,
   "metadata": {},
   "outputs": [],
   "source": [
    "fig, axs = plt.subplots(2, 5, figsize=(30, 12));\n",
    "fig.suptitle('Misclassified Images', size=32)\n",
    "\n",
    "for ax, pred, pred_prob, label, example in zip(axs.ravel(), preds_binary, preds_probs, labels, examples):\n",
    "    ax.imshow(example[:, :, 0] ,cmap='gray');\n",
    "    ax.set_title(f'Label: {label}\\nPrediction: {pred} with {np.round(np.max(pred_prob)*100, 3)}% Confidence.',\n",
    "                size = 15)\n",
    "    ax.axis('off')"
   ]
  },
  {
   "cell_type": "markdown",
   "metadata": {},
   "source": [
    "As seen above, the model struggles with hard examples that humans will struggle with some of them as well.\n",
    "There are mislabelled images in the MNIST that serve as noise or an outlier for the model."
   ]
  },
  {
   "cell_type": "markdown",
   "metadata": {},
   "source": [
    "<a id=\"notes\"></a>\n",
    "# 5. General Notes"
   ]
  },
  {
   "cell_type": "markdown",
   "metadata": {},
   "source": [
    "* This dataset has a relatively small size, that's why we used augmentation to reduce the chance of overfitting while remaining in the overall distributioin of the dataset.\n",
    "\n",
    "\n",
    "* MNIST is a pre-cleaned dataset and used as a models' performaces benchmarks. A more uncurated dataset would need more cleaning and preprocessing like checking if there are any labels missing or if the dataset require feature engineering like Dimensionality Reduction.\n",
    "\n",
    "\n",
    "* This model suffers from a fatal flaw that is it will give a prediction of a digit to any image it sees, so if we give it a picture of a human, dog, cat...etc with the correct shape it will classify it as a number. This is discussed in detail in this informative post. I highly recommend reading it. [https://emiliendupont.github.io/2018/03/14/mnist-chicken/](http://)\n",
    "\n",
    "\n",
    "* We can add another class to the dataset called \"Not-a-Digit\" and contains random images of non digits, but the dataset needs to be larger so that the dataset isn't inproportionate to one of its classes or add an appropriate number of examples for this new class, but because of the random nature of the class, its examples won't have consistient features nor distribution thus the model won't do well in case of unseen images of this new model.\n",
    "\n",
    "\n",
    "* We can only use this model to classify hand-written images (same distribution) if we want it to have the same accuracy with the new data, and the images must be of the same shape and be preprocessed the same way the training data were before being given to the model.\n",
    "\n",
    "\n",
    "* We can use this model as an initial model for recognizing digits outside this distribution but with training on the new digits distribution, its weights will be fine-tuned to be able to classify them, or we can use transfer learning to freeze some of the model's layers weights and change the architecture a bit then retrain it for a whole new problem that doesn't have anything to do with digits.\n",
    "\n",
    "\n",
    "* Finally, I hope this kernel explained a lot of tools used in preprocessing, model training, evaluation and error analyzing. You're welcome to fork it and change it as you like to try your own concepts. Feel free to use the visualiztion in this kernel to save some time while building your own kernels. "
   ]
  },
  {
   "cell_type": "markdown",
   "metadata": {},
   "source": [
    "<a id=\"submit\"></a>\n",
    "# 6. Submission"
   ]
  },
  {
   "cell_type": "code",
   "execution_count": null,
   "metadata": {},
   "outputs": [],
   "source": [
    "# cateforical predictions of the dataset\n",
    "pred = model.predict(unlabelled_test_x)\n",
    "pred_cat = np.argmax(pred,axis = 1)\n",
    "\n",
    "pred_series = pd.Series(pred_cat,name='Label')  # pandas series of predictions\n",
    "id_series = pd.Series(range(1, unlabelled_test_x.shape[0]+1), name='ImageId') # pandas series of IDs\n",
    "\n",
    "submission = pd.concat((id_series, pred_series), axis=1)\n",
    "\n",
    "print(submission.head(5))\n"
   ]
  },
  {
   "cell_type": "code",
   "execution_count": null,
   "metadata": {},
   "outputs": [],
   "source": [
    "# save to csv\n",
    "# submission.to_csv('submission.csv', index=False)"
   ]
  }
 ],
 "metadata": {
  "kernelspec": {
   "display_name": "Python 3 (ipykernel)",
   "language": "python",
   "name": "python3"
  },
  "language_info": {
   "codemirror_mode": {
    "name": "ipython",
    "version": 3
   },
   "file_extension": ".py",
   "mimetype": "text/x-python",
   "name": "python",
   "nbconvert_exporter": "python",
   "pygments_lexer": "ipython3",
   "version": "3.10.11"
  }
 },
 "nbformat": 4,
 "nbformat_minor": 4
}
