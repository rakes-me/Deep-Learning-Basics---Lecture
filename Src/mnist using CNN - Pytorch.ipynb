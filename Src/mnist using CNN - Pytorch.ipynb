{
 "cells": [
  {
   "cell_type": "markdown",
   "id": "272dc851",
   "metadata": {
    "papermill": {
     "duration": 0.013793,
     "end_time": "2024-02-10T11:21:17.274752",
     "exception": false,
     "start_time": "2024-02-10T11:21:17.260959",
     "status": "completed"
    },
    "tags": []
   },
   "source": [
    "# MNIST using PyTorch "
   ]
  },
  {
   "cell_type": "markdown",
   "id": "76a8f354",
   "metadata": {
    "papermill": {
     "duration": 0.012524,
     "end_time": "2024-02-10T11:21:17.325965",
     "exception": false,
     "start_time": "2024-02-10T11:21:17.313441",
     "status": "completed"
    },
    "tags": []
   },
   "source": [
    "# 📚 Introduction 📚"
   ]
  },
  {
   "cell_type": "markdown",
   "id": "c8721ac8",
   "metadata": {
    "papermill": {
     "duration": 0.012804,
     "end_time": "2024-02-10T11:21:17.351504",
     "exception": false,
     "start_time": "2024-02-10T11:21:17.338700",
     "status": "completed"
    },
    "tags": []
   },
   "source": [
    "<div style=\"border-radius: 10px; border: #710193 solid; padding: 15px; background-color: #ffffff00; font-size: 100%; text-align: left;\">\n",
    "The <b>MNIST database</b> (<i>Modified National Institute of Standards and Technology database</i>) is a large database of <b>handwritten digits</b> that is commonly used for training various image processing systems. As new machine learning techniques emerge, MNIST remains a reliable resource for researchers and learners alike.<br><br>\n",
    "The original <b>black and white images</b> were normalized to fit into a <b>28x28 pixel</b> bounding box and anti-aliased, which introduced <b>grayscale levels</b>. The original MNIST database contains 60,000 training images and 10,000 testing images, but in this competition we are given <b>42,000 training images</b> (70%) and <b>18,000 testing images</b> (30%).<br><br>\n",
    "This notebook is an improvement of <a href=https://www.kaggle.com/code/marcpaulo/sklearn-mlp>my first notebook</a> in which we trained a <b>MultiLayer Perceptron (MLP)</b> using <code>Sklearn</code>. An MLP model ignores the <i>spatial information</i> and structure inherent in two-dimensional images. It treats each pixel as a separate input feature, resulting in a flattened, one-dimensional representation of the image.<br><br>\n",
    "    <b>In this notebook</b>, we address this problem by implementing <b>Convolutional Neural Networks</b>, which are able to process two-dimensional data (e.g. images). Here, we will use the <b><code>PyTorch</code></b> library, which is an <i>open-source</i> machine learning library for Python, developed primarily by <i>Facebook's AI Research lab (FAIR)</i>. It is widely used for various tasks in machine learning and deep learning, such as building and training <i>neural networks</i>.<br><br>\n",
    "❓ <b>WHAT WILL WE DO</b> ❓\n",
    "    <ul>\n",
    "        <li> 🔎 <b>Read & preprocess the Data</b> 🔍:<br>\n",
    "            - Read and explore the dataset.<br>- Check if there are <i>missing</i> values.<br> \n",
    "            - Check the <i>range</i> of pixel values.<br>- Visualize the data (Images).<br>- Check that the target is <i>balanced</i>.<br>- Apply the preprocessing steps before feeding the Network.</li><br>\n",
    "        <li> 🏋️ <b>Create and Train your ConvNet</b> 🏋️:<br>\n",
    "            - Change the format of the data (Numpy array) to the proper Pytorch format (Pytorch Tensor).<br>\n",
    "            - Create your cusomizable CNN using PyTorch (our own <code>MyConvNet</code> class).<br>- Define the hyperparameters (<i>num_epochs</i>, <i>batch_size</i>, etc).<br>- Initialize the <i>Model</i>, the <i>optimizer</i>, and the <i>cost function</i>.<br>- Create the trainig loop and track the training and validation losses.<br>- Plot the metrics to detect <i>overfitting</i>.<br>- Compute and show the <i>Classification Report</i>: accuracy, f1, precision, recall.<br>- Display the <i>Confusion Matrix</i>.</li><br>\n",
    "        <li> 🧐 <b>Visualize Misclassified Images</b> 🧐:<br>\n",
    "            - Learn how to visualize the misclassified Images.<br>\n",
    "            - Evaluate the performance of the model on images with more uncertainty.\n",
    "        </li><br>\n",
    "        <li> 👀 <b>Visualize Convolutional Filters</b> 👀:<br>\n",
    "            - Learn how to plot the filters (learned weights) of your Convolutional Network.\n",
    "    </ul><br>\n",
    "📈 <b>LET'S GO!</b> 📉\n",
    "</div>"
   ]
  },
  {
   "cell_type": "code",
   "execution_count": 3,
   "id": "5625230a",
   "metadata": {
    "papermill": {
     "duration": 5.982346,
     "end_time": "2024-02-10T11:21:23.346651",
     "exception": false,
     "start_time": "2024-02-10T11:21:17.364305",
     "status": "completed"
    },
    "tags": []
   },
   "outputs": [],
   "source": [
    "## IMPORT THE NECESSARY PYTHON LIBRARIES\n",
    "\n",
    "# Read & Preprocess Data\n",
    "import numpy as np\n",
    "import pandas as pd\n",
    "import seaborn as sns\n",
    "import matplotlib.pyplot as plt\n",
    "\n",
    "# Create and Train your ConvNet [PyTorch]\n",
    "from typing import Union, List, Tuple\n",
    "import torch\n",
    "import torch.nn as nn\n",
    "from sklearn.metrics import classification_report, \\\n",
    "    confusion_matrix, ConfusionMatrixDisplay"
   ]
  },
  {
   "cell_type": "markdown",
   "id": "094ad882",
   "metadata": {
    "papermill": {
     "duration": 0.01322,
     "end_time": "2024-02-10T11:21:23.373885",
     "exception": false,
     "start_time": "2024-02-10T11:21:23.360665",
     "status": "completed"
    },
    "tags": []
   },
   "source": [
    "# 🔎 Read & Preprocess the Data 🔍"
   ]
  },
  {
   "cell_type": "markdown",
   "id": "bbc8c7d2",
   "metadata": {
    "papermill": {
     "duration": 0.01281,
     "end_time": "2024-02-10T11:21:23.399666",
     "exception": false,
     "start_time": "2024-02-10T11:21:23.386856",
     "status": "completed"
    },
    "tags": []
   },
   "source": [
    "<div style=\"border-radius: 10px; border: #710193 solid; padding: 15px; background-color: #ffffff00; font-size: 100%; text-align: left;\">\n",
    "In this section, we will use the well-known <code>Pandas</code> Python library to read the data from <code>.csv</code> files.<br><br>\n",
    "We will visualize the <b>distribution of the pixel values</b> (histogram) using the <code>Seaborn</code> and <b>Matplotlib</b> Python libraries. We will also check that there are no <b>missing values</b>, and that the <b>target classes are balanced</b>. We will <b>visualize the images</b> by plotting one image from each class.<br><br>\n",
    "The last part of this section consists of <b>preprocessing the data</b> before feeding an <b>ConvNet (CNN)</b> model:\n",
    "    <ul>\n",
    "        <li>⚙️ <b>SCALING</b> ⚙️: Scale the data by mapping the pixel values to the <b>[0,1] interval</b>, where the largest occuring data point (<code>255</code>) corresponds to the maximum value (<code>1</code>), and the smallest one (<code>0</code>) corresponds to the minimum value (<code>0</code>). <br><b>WHY?</b> Because <i>Newral Networks</i> can benefit from having input data with small values. This encourages <i>numerical stability</i>, <i>gradient descent convergence</i>, <i>activation function sensitivity</i>, etc.</li>\n",
    "    </ul>\n",
    "</div>"
   ]
  },
  {
   "cell_type": "markdown",
   "id": "1648c91b",
   "metadata": {
    "papermill": {
     "duration": 0.013038,
     "end_time": "2024-02-10T11:21:23.425792",
     "exception": false,
     "start_time": "2024-02-10T11:21:23.412754",
     "status": "completed"
    },
    "tags": []
   },
   "source": [
    "<div class=\"alert alert-block alert-warning\">\n",
    "<b>NOTE:</b>\n",
    " I copied this first section <b>\"Read & Process Data\"</b> from <a href=https://www.kaggle.com/code/marcpaulo/sklearn-mlp>my first notebook</a> because the steps to follow are the same.\n",
    " </div>"
   ]
  },
  {
   "cell_type": "code",
   "execution_count": 6,
   "id": "49251aac",
   "metadata": {
    "papermill": {
     "duration": 5.43179,
     "end_time": "2024-02-10T11:21:28.870510",
     "exception": false,
     "start_time": "2024-02-10T11:21:23.438720",
     "status": "completed"
    },
    "tags": []
   },
   "outputs": [],
   "source": [
    "# Read the data files using Pandas\n",
    "df_train = pd.read_csv('../Data/mnist/train.csv')\n",
    "df_test =  pd.read_csv('../Data/mnist//test.csv')"
   ]
  },
  {
   "cell_type": "code",
   "execution_count": 7,
   "id": "03736c0c",
   "metadata": {
    "papermill": {
     "duration": 0.021382,
     "end_time": "2024-02-10T11:21:28.905596",
     "exception": false,
     "start_time": "2024-02-10T11:21:28.884214",
     "status": "completed"
    },
    "tags": []
   },
   "outputs": [
    {
     "name": "stdout",
     "output_type": "stream",
     "text": [
      "df_train shape: (42000, 785)\n",
      "df_test shape:  (28000, 784)\n"
     ]
    }
   ],
   "source": [
    "# Check the size of the train and test DataFrames\n",
    "print(\"df_train shape:\", df_train.shape)\n",
    "print(\"df_test shape: \", df_test.shape)"
   ]
  },
  {
   "cell_type": "code",
   "execution_count": 8,
   "id": "56bb0af0",
   "metadata": {
    "papermill": {
     "duration": 0.066119,
     "end_time": "2024-02-10T11:21:28.986078",
     "exception": false,
     "start_time": "2024-02-10T11:21:28.919959",
     "status": "completed"
    },
    "tags": []
   },
   "outputs": [
    {
     "name": "stdout",
     "output_type": "stream",
     "text": [
      "Missing values in df_train:  0\n",
      "Missing values in df_test:  0\n"
     ]
    }
   ],
   "source": [
    "# Fortunately there are no missing values in our data\n",
    "print(\n",
    "    \"Missing values in df_train: \", \\\n",
    "    df_train.isna().sum().sum()\n",
    ")\n",
    "print(\n",
    "    \"Missing values in df_test: \", \\\n",
    "    df_test.isna().sum().sum()\n",
    ")"
   ]
  },
  {
   "cell_type": "code",
   "execution_count": 9,
   "id": "29b4065c",
   "metadata": {
    "papermill": {
     "duration": 0.039674,
     "end_time": "2024-02-10T11:21:29.080201",
     "exception": false,
     "start_time": "2024-02-10T11:21:29.040527",
     "status": "completed"
    },
    "tags": []
   },
   "outputs": [
    {
     "data": {
      "text/html": [
       "<div>\n",
       "<style scoped>\n",
       "    .dataframe tbody tr th:only-of-type {\n",
       "        vertical-align: middle;\n",
       "    }\n",
       "\n",
       "    .dataframe tbody tr th {\n",
       "        vertical-align: top;\n",
       "    }\n",
       "\n",
       "    .dataframe thead th {\n",
       "        text-align: right;\n",
       "    }\n",
       "</style>\n",
       "<table border=\"1\" class=\"dataframe\">\n",
       "  <thead>\n",
       "    <tr style=\"text-align: right;\">\n",
       "      <th></th>\n",
       "      <th>label</th>\n",
       "      <th>pixel0</th>\n",
       "      <th>pixel1</th>\n",
       "      <th>pixel2</th>\n",
       "      <th>pixel3</th>\n",
       "      <th>pixel4</th>\n",
       "      <th>pixel5</th>\n",
       "      <th>pixel6</th>\n",
       "      <th>pixel7</th>\n",
       "      <th>pixel8</th>\n",
       "      <th>...</th>\n",
       "      <th>pixel774</th>\n",
       "      <th>pixel775</th>\n",
       "      <th>pixel776</th>\n",
       "      <th>pixel777</th>\n",
       "      <th>pixel778</th>\n",
       "      <th>pixel779</th>\n",
       "      <th>pixel780</th>\n",
       "      <th>pixel781</th>\n",
       "      <th>pixel782</th>\n",
       "      <th>pixel783</th>\n",
       "    </tr>\n",
       "  </thead>\n",
       "  <tbody>\n",
       "    <tr>\n",
       "      <th>0</th>\n",
       "      <td>1</td>\n",
       "      <td>0</td>\n",
       "      <td>0</td>\n",
       "      <td>0</td>\n",
       "      <td>0</td>\n",
       "      <td>0</td>\n",
       "      <td>0</td>\n",
       "      <td>0</td>\n",
       "      <td>0</td>\n",
       "      <td>0</td>\n",
       "      <td>...</td>\n",
       "      <td>0</td>\n",
       "      <td>0</td>\n",
       "      <td>0</td>\n",
       "      <td>0</td>\n",
       "      <td>0</td>\n",
       "      <td>0</td>\n",
       "      <td>0</td>\n",
       "      <td>0</td>\n",
       "      <td>0</td>\n",
       "      <td>0</td>\n",
       "    </tr>\n",
       "    <tr>\n",
       "      <th>1</th>\n",
       "      <td>0</td>\n",
       "      <td>0</td>\n",
       "      <td>0</td>\n",
       "      <td>0</td>\n",
       "      <td>0</td>\n",
       "      <td>0</td>\n",
       "      <td>0</td>\n",
       "      <td>0</td>\n",
       "      <td>0</td>\n",
       "      <td>0</td>\n",
       "      <td>...</td>\n",
       "      <td>0</td>\n",
       "      <td>0</td>\n",
       "      <td>0</td>\n",
       "      <td>0</td>\n",
       "      <td>0</td>\n",
       "      <td>0</td>\n",
       "      <td>0</td>\n",
       "      <td>0</td>\n",
       "      <td>0</td>\n",
       "      <td>0</td>\n",
       "    </tr>\n",
       "    <tr>\n",
       "      <th>2</th>\n",
       "      <td>1</td>\n",
       "      <td>0</td>\n",
       "      <td>0</td>\n",
       "      <td>0</td>\n",
       "      <td>0</td>\n",
       "      <td>0</td>\n",
       "      <td>0</td>\n",
       "      <td>0</td>\n",
       "      <td>0</td>\n",
       "      <td>0</td>\n",
       "      <td>...</td>\n",
       "      <td>0</td>\n",
       "      <td>0</td>\n",
       "      <td>0</td>\n",
       "      <td>0</td>\n",
       "      <td>0</td>\n",
       "      <td>0</td>\n",
       "      <td>0</td>\n",
       "      <td>0</td>\n",
       "      <td>0</td>\n",
       "      <td>0</td>\n",
       "    </tr>\n",
       "    <tr>\n",
       "      <th>3</th>\n",
       "      <td>4</td>\n",
       "      <td>0</td>\n",
       "      <td>0</td>\n",
       "      <td>0</td>\n",
       "      <td>0</td>\n",
       "      <td>0</td>\n",
       "      <td>0</td>\n",
       "      <td>0</td>\n",
       "      <td>0</td>\n",
       "      <td>0</td>\n",
       "      <td>...</td>\n",
       "      <td>0</td>\n",
       "      <td>0</td>\n",
       "      <td>0</td>\n",
       "      <td>0</td>\n",
       "      <td>0</td>\n",
       "      <td>0</td>\n",
       "      <td>0</td>\n",
       "      <td>0</td>\n",
       "      <td>0</td>\n",
       "      <td>0</td>\n",
       "    </tr>\n",
       "    <tr>\n",
       "      <th>4</th>\n",
       "      <td>0</td>\n",
       "      <td>0</td>\n",
       "      <td>0</td>\n",
       "      <td>0</td>\n",
       "      <td>0</td>\n",
       "      <td>0</td>\n",
       "      <td>0</td>\n",
       "      <td>0</td>\n",
       "      <td>0</td>\n",
       "      <td>0</td>\n",
       "      <td>...</td>\n",
       "      <td>0</td>\n",
       "      <td>0</td>\n",
       "      <td>0</td>\n",
       "      <td>0</td>\n",
       "      <td>0</td>\n",
       "      <td>0</td>\n",
       "      <td>0</td>\n",
       "      <td>0</td>\n",
       "      <td>0</td>\n",
       "      <td>0</td>\n",
       "    </tr>\n",
       "  </tbody>\n",
       "</table>\n",
       "<p>5 rows × 785 columns</p>\n",
       "</div>"
      ],
      "text/plain": [
       "   label  pixel0  pixel1  pixel2  pixel3  pixel4  pixel5  pixel6  pixel7  \\\n",
       "0      1       0       0       0       0       0       0       0       0   \n",
       "1      0       0       0       0       0       0       0       0       0   \n",
       "2      1       0       0       0       0       0       0       0       0   \n",
       "3      4       0       0       0       0       0       0       0       0   \n",
       "4      0       0       0       0       0       0       0       0       0   \n",
       "\n",
       "   pixel8  ...  pixel774  pixel775  pixel776  pixel777  pixel778  pixel779  \\\n",
       "0       0  ...         0         0         0         0         0         0   \n",
       "1       0  ...         0         0         0         0         0         0   \n",
       "2       0  ...         0         0         0         0         0         0   \n",
       "3       0  ...         0         0         0         0         0         0   \n",
       "4       0  ...         0         0         0         0         0         0   \n",
       "\n",
       "   pixel780  pixel781  pixel782  pixel783  \n",
       "0         0         0         0         0  \n",
       "1         0         0         0         0  \n",
       "2         0         0         0         0  \n",
       "3         0         0         0         0  \n",
       "4         0         0         0         0  \n",
       "\n",
       "[5 rows x 785 columns]"
      ]
     },
     "execution_count": 9,
     "metadata": {},
     "output_type": "execute_result"
    }
   ],
   "source": [
    "# Let's have a look at the first five training rows\n",
    "df_train.head()"
   ]
  },
  {
   "cell_type": "code",
   "execution_count": 10,
   "id": "d9595170",
   "metadata": {
    "papermill": {
     "duration": 0.108006,
     "end_time": "2024-02-10T11:21:29.201984",
     "exception": false,
     "start_time": "2024-02-10T11:21:29.093978",
     "status": "completed"
    },
    "tags": []
   },
   "outputs": [],
   "source": [
    "# We can see that the first colum is the label,\n",
    "# and the rest of the columns are the 784 pixels\n",
    "# that represent 28x28 gray-scale images.\n",
    "# Let's extract the training images (X) and \n",
    "# the trainig targets (y)\n",
    "\n",
    "X_train_original = df_train.drop(columns=['label']).values\n",
    "X_train = X_train_original.reshape(42000, 28, 28)\n",
    "\n",
    "y_train = df_train['label'].values"
   ]
  },
  {
   "cell_type": "code",
   "execution_count": 11,
   "id": "85594570",
   "metadata": {
    "papermill": {
     "duration": 14.274988,
     "end_time": "2024-02-10T11:21:43.491225",
     "exception": false,
     "start_time": "2024-02-10T11:21:29.216237",
     "status": "completed"
    },
    "tags": []
   },
   "outputs": [
    {
     "data": {
      "image/png": "[encoded data removed]",
      "text/plain": [
       "<Figure size 640x480 with 1 Axes>"
      ]
     },
     "metadata": {},
     "output_type": "display_data"
    }
   ],
   "source": [
    "# Let's visualize the distribution of the pixel values\n",
    "\n",
    "ax = sns.histplot(\n",
    "    x=X_train_original.flatten(), \n",
    "    color='#A45EE5'\n",
    ")\n",
    "_ = ax.set(\n",
    "    title='Pixel Value Histogram', xlabel='Pixel Value'\n",
    ")\n",
    "\n",
    "# As we can see, the 0 value represents the background\n",
    "# and the >0 values represent the digits in the images"
   ]
  },
  {
   "cell_type": "code",
   "execution_count": 12,
   "id": "5482283e",
   "metadata": {
    "papermill": {
     "duration": 0.343566,
     "end_time": "2024-02-10T11:21:43.852999",
     "exception": false,
     "start_time": "2024-02-10T11:21:43.509433",
     "status": "completed"
    },
    "tags": []
   },
   "outputs": [
    {
     "data": {
      "text/plain": [
       "<matplotlib.lines.Line2D at 0x1f09d2dd2a0>"
      ]
     },
     "execution_count": 12,
     "metadata": {},
     "output_type": "execute_result"
    },
    {
     "data": {
      "image/png": "[encoded data removed]",
      "text/plain": [
       "<Figure size 640x480 with 1 Axes>"
      ]
     },
     "metadata": {},
     "output_type": "display_data"
    }
   ],
   "source": [
    "# Let's check that the target is balances.\n",
    "# It means that the ten categories in the target\n",
    "# have roughly the same representation in the data.\n",
    "\n",
    "ax = sns.countplot(x=y_train, color='#A45EE5')\n",
    "ax.set(\n",
    "    title='Target distribution is balanced? Yes!',\n",
    "    xlabel='Label'\n",
    ")\n",
    "# The expected number of samples for a balanced \n",
    "# class distribution is 42000/10 = 4200\n",
    "ax.axhline(y=4200, color='#710193', linestyle='--')\n",
    "\n",
    "# Since the target classes are balances, we don't have\n",
    "# worry about sampling methods and biases in our models."
   ]
  },
  {
   "cell_type": "code",
   "execution_count": 13,
   "id": "5f98bc55",
   "metadata": {
    "papermill": {
     "duration": 0.476156,
     "end_time": "2024-02-10T11:21:44.344351",
     "exception": false,
     "start_time": "2024-02-10T11:21:43.868195",
     "status": "completed"
    },
    "tags": []
   },
   "outputs": [
    {
     "data": {
      "image/png": "[encoded data removed]",
      "text/plain": [
       "<Figure size 1000x500 with 10 Axes>"
      ]
     },
     "metadata": {},
     "output_type": "display_data"
    }
   ],
   "source": [
    "# Next, let's visualize one image from each class.\n",
    "# We will use the matplotlib 'imshow' function.\n",
    "\n",
    "fig, axs = plt.subplots(nrows=2, ncols=5, figsize=(10,5))\n",
    "\n",
    "for i in range(10):\n",
    "    idx = np.where(y_train==i)[0][0]\n",
    "    img = axs[int(i >= 5), i%5].imshow(\n",
    "        X=X_train[idx], cmap='Purples'\n",
    "    )\n",
    "    img.axes.get_yaxis().set_visible(False)\n",
    "    img.axes.get_xaxis().set_visible(False)\n",
    "    img.axes.set_title(f'Label: {i}')"
   ]
  },
  {
   "cell_type": "code",
   "execution_count": 14,
   "id": "e8c8162c",
   "metadata": {
    "papermill": {
     "duration": 0.289513,
     "end_time": "2024-02-10T11:21:44.649979",
     "exception": false,
     "start_time": "2024-02-10T11:21:44.360466",
     "status": "completed"
    },
    "tags": []
   },
   "outputs": [
    {
     "name": "stdout",
     "output_type": "stream",
     "text": [
      "After applying Min-Max Scaler:\n",
      "  - New minimum value: 0.0\n",
      "  - New maximum value: 1.0\n"
     ]
    }
   ],
   "source": [
    "# Finally, let's preprocess the data (scaling) \n",
    "# before feeding the Convolutional Networks:\n",
    "\n",
    "X_min, X_max = X_train_original.min(), X_train_original.max()\n",
    "X_train = (X_train - X_min) / (X_max - X_min)  # scaling\n",
    "print(\"After applying Min-Max Scaler:\")\n",
    "print(\"  - New minimum value:\", X_train.min())\n",
    "print(\"  - New maximum value:\", X_train.max())"
   ]
  },
  {
   "cell_type": "markdown",
   "id": "6409e9e2",
   "metadata": {
    "papermill": {
     "duration": 0.015745,
     "end_time": "2024-02-10T11:21:44.681904",
     "exception": false,
     "start_time": "2024-02-10T11:21:44.666159",
     "status": "completed"
    },
    "tags": []
   },
   "source": [
    "# 🏋️ Create and Train your ConvNet 🏋️"
   ]
  },
  {
   "cell_type": "markdown",
   "id": "93144db6",
   "metadata": {
    "papermill": {
     "duration": 0.016284,
     "end_time": "2024-02-10T11:21:44.714439",
     "exception": false,
     "start_time": "2024-02-10T11:21:44.698155",
     "status": "completed"
    },
    "tags": []
   },
   "source": [
    "<div style=\"border-radius: 10px; border: #710193 solid; padding: 15px; background-color: #ffffff00; font-size: 100%; text-align: left;\">\n",
    "    In this section, we will implement all the steps to <b>train a Neural Network using <code>PyTorch</code></b>. <br><br>\n",
    "    First of all, we will define the training <b>Hyperparameters</b> and the <b>device</b> (CPU or GPU). Then, we will turn the data into the right format to feed a Pytorch Module. So far, our data are <code>Numpy Arrays</code> or <code>Pandas DataFrame</code>, but Pytorch requieres a special data type called <code>PyTorch Tensor</code> (more details below). The data preparation ends when we have the training data in a <code>PyTorch DataLoader</code> and the validation data as <code>PyTorch Tensors</code>.<br><br>\n",
    "Once the data is ready, we introduce <b>our own <code>MyConvNet</code> class</b> to create and customize <i>Convolutional Neural Networks</i> using PyTorch. The architecture of the model is specified when the model is initialize. Refer to the class docstrings to understand how to use it (there is also a brief introduction below).<br><br>\n",
    "    Finally, we define the <i>Cost Function</i> to minimize: <b>Cross-Entropy Loss</b> (a.k.a <i>Logarithmic Loss</i>) for this multiclass classification task, and we initialize the <b>Adam Optimizer</b> as well. The last step is to implement the <b>Training Loop</b> and track the training and validation losses throughout the training process. When the training is done, we perform some <i>visual analysis</i> by displaying the <b>Confusion Matrix</b> and the <b>Classification Report</b> (using the <code>Sklearn</code> library).<br><br>\n",
    "\n",
    "🔝 <b>Our own <code>MyConvNet</code> class</b> 🔝:<br>\n",
    "    <ul>\n",
    "<li> In this section, we provide you with a Python Class that serves as a Pytorch Module which can be customized. You will be able to define the architecture of the model (its layers) when you initialize it. Refer to the dosctrings and comments of the Class to understand how to use it. There are two main parameters:<br><br>\n",
    "    <ul>\n",
    "        <li><code>conv_block</code>: represents the convolutional layers (and their <i>activation functions</i> or <i>poolings</i>)<br>The two-dimensional convolutional layers are given as a tuple <code>(int, int)</code> that represents the <code>(kernel_size, out_channels)</code> of that layer (no padding). The string <code>'max_pool'</code> represents a 2x2 Max Pooling Layer. The available activation functions are given as strings <code>'relu'</code> or <code>'tanh'</code>.</li><br>\n",
    "            <li><code>fc_block</code>: represents the fully-connected layers (and their <i>activation functions</i>).<br>The fully-connected layers are given as a <code>int</code> that represents the number of units for that layer. The available activation functions are given as strings <code>'relu'</code> or <code>'tanh'</code>.\n",
    "    </ul><br>If you like this implementation, feel free to use it in your Data Science Projects! :)</li></ul><br><br>\n",
    "    \n",
    " 🔜 <b>Beyond the scope of this Notebook</b> 🔜:<br>\n",
    "        <ul>\n",
    "            <li><b>Hyperarameter Optimization</b>: you can use techniques like <i>Grid search</i>, <i>Random Search</i>, or more advanced methods like <i>Bayesian Optimization</i>.\n",
    "            </li>\n",
    "    </ul>\n",
    "</div>"
   ]
  },
  {
   "cell_type": "code",
   "execution_count": 15,
   "id": "c7ac29d3",
   "metadata": {
    "papermill": {
     "duration": 0.025029,
     "end_time": "2024-02-10T11:21:44.756158",
     "exception": false,
     "start_time": "2024-02-10T11:21:44.731129",
     "status": "completed"
    },
    "tags": []
   },
   "outputs": [],
   "source": [
    "# First of all, let's define the Training Hyperparameters\n",
    "\n",
    "hparams = {\n",
    "    # Define the MyConvNet architecture:\n",
    "    'conv_block': [\n",
    "        (3, 16), 'relu', 'max_pool',\n",
    "        (3, 32), 'relu', 'max_pool',\n",
    "    ],\n",
    "    'fc_block': [64, 'relu', 10],  # last layer = n_classes\n",
    "    # (to understand these values, read the \n",
    "    # documentation of the MyConvNet class below)\n",
    "    \n",
    "    # Optimizer (Adam):\n",
    "    'learning_rate': 5e-4,\n",
    "    'weight_decay': 1e-4,\n",
    "    \n",
    "    # Training Loop:\n",
    "    'num_epochs': 10,\n",
    "    'batch_size': 64,\n",
    "    'display_info_every': 150,  # weight updates\n",
    "    'compute_valid_loss_every': 150, # weight updates\n",
    "}"
   ]
  },
  {
   "cell_type": "code",
   "execution_count": 16,
   "id": "816c9a43",
   "metadata": {
    "papermill": {
     "duration": 0.106666,
     "end_time": "2024-02-10T11:21:44.877867",
     "exception": false,
     "start_time": "2024-02-10T11:21:44.771201",
     "status": "completed"
    },
    "tags": []
   },
   "outputs": [
    {
     "data": {
      "text/plain": [
       "device(type='cuda')"
      ]
     },
     "execution_count": 16,
     "metadata": {},
     "output_type": "execute_result"
    }
   ],
   "source": [
    "# In PyTorch, the term \"device\" refers to the hardware \n",
    "# on which Tensors (the primary data structure in PyTorch)\n",
    "# are stored and operated upon. \n",
    "\n",
    "# The two main types of devices are:\n",
    "# - CPU (Central Processing Unit): \n",
    "#     The device by default.\n",
    "# - CUDA-enabled GPU (Graphics Processing Unit): \n",
    "#     It significantly speeds up certain Deep Learning operations.\n",
    "\n",
    "device = torch.device(\"cuda\" if torch.cuda.is_available() else \"cpu\")\n",
    "device"
   ]
  },
  {
   "cell_type": "code",
   "execution_count": 17,
   "id": "011a94f3",
   "metadata": {
    "papermill": {
     "duration": 0.419251,
     "end_time": "2024-02-10T11:21:45.312492",
     "exception": false,
     "start_time": "2024-02-10T11:21:44.893241",
     "status": "completed"
    },
    "tags": []
   },
   "outputs": [
    {
     "name": "stdout",
     "output_type": "stream",
     "text": [
      "Torch Training Features, shape = torch.Size([42000, 1, 28, 28])\n",
      "Torch Training Target, shape = torch.Size([42000])\n"
     ]
    }
   ],
   "source": [
    "# PyTorch uses a special data type called Tensors.\n",
    "# Tensors are a fundamental data structure \n",
    "# used in PyTorch for representing and manipulating data.\n",
    "\n",
    "# Turn the Numpy training data into Pytorch Tensors\n",
    "tensor_X_train = torch.tensor(\n",
    "    data=X_train, dtype=torch.float, device=device\n",
    ")\n",
    "tensor_X_train = tensor_X_train.unsqueeze(dim=1)\n",
    "# '.unsqueeze(dim=1)' is used to add the 'channel' dimension\n",
    "# In gray-scale images, the number of channels is 1\n",
    "print('Torch Training Features, shape =', tensor_X_train.shape)\n",
    "# A batch of images has size [batch_size, n_channels, width, height]\n",
    "\n",
    "tensor_y_train = torch.tensor(\n",
    "    data=y_train, dtype=torch.long, device=device\n",
    ")\n",
    "print('Torch Training Target, shape =', tensor_y_train.shape)"
   ]
  },
  {
   "cell_type": "code",
   "execution_count": 18,
   "id": "0a8df3e7",
   "metadata": {
    "papermill": {
     "duration": 0.034616,
     "end_time": "2024-02-10T11:21:45.363377",
     "exception": false,
     "start_time": "2024-02-10T11:21:45.328761",
     "status": "completed"
    },
    "tags": []
   },
   "outputs": [
    {
     "name": "stdout",
     "output_type": "stream",
     "text": [
      "Train Data length = 42000\n",
      "The first (X,y) pair, X shape = torch.Size([1, 28, 28])\n",
      "The first (X,y) pair, y = 1\n"
     ]
    }
   ],
   "source": [
    "# So far, we have encoded the Images (X) and Labels (y) \n",
    "# as two different Pytorch Tensors. Now, let's crate\n",
    "# a PyTorch Dataset that will contain both tensors.\n",
    "\n",
    "# Create a Pytroch Dataset: create pairs of (X,y) samples\n",
    "train_dataset = torch.utils.data.TensorDataset(\n",
    "    tensor_X_train, tensor_y_train\n",
    ")\n",
    "\n",
    "print('Train Data length =', len(train_dataset))\n",
    "print('The first (X,y) pair, X shape =', train_dataset[0][0].shape)\n",
    "print('The first (X,y) pair, y =', train_dataset[0][1].item())"
   ]
  },
  {
   "cell_type": "code",
   "execution_count": 19,
   "id": "e92cd4be",
   "metadata": {
    "papermill": {
     "duration": 0.032115,
     "end_time": "2024-02-10T11:21:45.411486",
     "exception": false,
     "start_time": "2024-02-10T11:21:45.379371",
     "status": "completed"
    },
    "tags": []
   },
   "outputs": [
    {
     "name": "stdout",
     "output_type": "stream",
     "text": [
      "Training subset: 37800 samples\n",
      "Validation subset: 4200 samples\n"
     ]
    }
   ],
   "source": [
    "# Now, we will split the entire Training dataset into\n",
    "# two subsets: Training subset and Validation subset\n",
    "# Since our MNIST is a large dataset (42000 training samples),\n",
    "# it is enough to keep just the 10% (4200 samples) as the\n",
    "# validation subset (we would also be fine with a 95-5% split)\n",
    "\n",
    "train_subset, valid_subset = torch.utils.data.random_split(\n",
    "    dataset=train_dataset,  # dataset to split\n",
    "    lengths=[0.9, 0.1], # 90% training subset, 10% validation subset\n",
    ")\n",
    "\n",
    "print(f'Training subset: {len(train_subset.indices)} samples')\n",
    "print(f'Validation subset: {len(valid_subset.indices)} samples')"
   ]
  },
  {
   "cell_type": "code",
   "execution_count": 20,
   "id": "d3092102",
   "metadata": {
    "papermill": {
     "duration": 0.128209,
     "end_time": "2024-02-10T11:21:45.555562",
     "exception": false,
     "start_time": "2024-02-10T11:21:45.427353",
     "status": "completed"
    },
    "tags": []
   },
   "outputs": [],
   "source": [
    "# Dataset vs. DataLoader:\n",
    "# - A Dataset stores the samples and their corresponding labels\n",
    "# - A DataLoader wraps an iterable around the Dataset to enable\n",
    "#   easy access to the samples.\n",
    "\n",
    "# Before implementing the Training Loop, let's first wrap our\n",
    "# Pytorch Dataset in a Pytorch DataLoader that will yield batches\n",
    "# of training samples (batch_size)\n",
    "\n",
    "train_loader = torch.utils.data.DataLoader(\n",
    "    dataset=train_subset,\n",
    "    batch_size=hparams['batch_size'],\n",
    "    shuffle=True,\n",
    ")\n",
    "\n",
    "# We will not create a valid_loader for the Validation Subset\n",
    "# because to validate the model we will feed it with the \n",
    "# entire validation subset (just one batch). However, we have\n",
    "# to separate the validation images (X) and their labels (y)\n",
    "X_valid, y_valid = zip(*valid_subset)\n",
    "\n",
    "# Let's turn them into the right format (Tensors)\n",
    "X_valid = torch.stack(X_valid)\n",
    "y_valid = torch.tensor(\n",
    "    data=y_valid, dtype=torch.long, device=device\n",
    ")"
   ]
  },
  {
   "cell_type": "code",
   "execution_count": 21,
   "id": "2bddfae1",
   "metadata": {
    "papermill": {
     "duration": 0.03781,
     "end_time": "2024-02-10T11:21:45.609001",
     "exception": false,
     "start_time": "2024-02-10T11:21:45.571191",
     "status": "completed"
    },
    "tags": []
   },
   "outputs": [],
   "source": [
    "# Once the data is ready, let's create the Neural Network model.\n",
    "# Here we provide you with a Python Class that serves as a\n",
    "# Pytorch Module which can be customized (the architecture\n",
    "# is not fixed). \n",
    "\n",
    "# Feel free to use this Class in your Data Science Projects! :)\n",
    "\n",
    "\n",
    "class MyConvNet(nn.Module):\n",
    "    \"\"\"\n",
    "    MyConvNet: \n",
    "        A customizable Convolutional Neural Network using PyTorch.\n",
    "        Architecture: a Conv Block followed by a Fully-Conn block.\n",
    "\n",
    "    Attributes:\n",
    "        - conv_block (nn.Sequential): \n",
    "            Sequential container for convolutional layers.\n",
    "        - fc_block (nn.Sequential): \n",
    "            Sequential container for fully connected layers.\n",
    "        - input_shape (Tuple[int, int]): \n",
    "            Input shape of the data (width, height).\n",
    "\n",
    "    Methods:\n",
    "        - forward(x: torch.Tensor) -> torch.Tensor: \n",
    "            Forward pass through the network (conv_block + fc_block)\n",
    "\n",
    "    Static Methods:\n",
    "        - _get_activation(layer_: str) -> nn.Module: \n",
    "            Returns the activation function based on the provided string.\n",
    "    \"\"\"\n",
    "\n",
    "    # '(<int>,<int>)' represents the (kernel_size, out_channels) of a ConvLayer\n",
    "    available_conv_layers = ('(<int>,<int>)', 'relu', 'tanh', 'max_pool')\n",
    "    # '<int>' represents the number of units in a Fully-Connected Layer\n",
    "    available_fc_layers = ('<int>', 'relu', 'tanh')\n",
    "    \n",
    "    \n",
    "    def __init__(\n",
    "            self, \n",
    "            conv_block: List[Union[Tuple[int, int], str]],\n",
    "            fc_block: List[Tuple[int]],\n",
    "            input_shape: Tuple[int, int] = (28, 28),\n",
    "            n_classes: int = 10\n",
    "    ) -> None:\n",
    "        \"\"\"\n",
    "        Initialize the MyConvNet model.\n",
    "\n",
    "        Args:\n",
    "            conv_block: List describing the convolutional layers.\n",
    "            fc_block: List describing the fully connected layers.\n",
    "            input_shape: Input shape of the data. Default is (28, 28).\n",
    "            n_classes: number of different classes (classification)\n",
    "        Raises:\n",
    "            ValueError: If any of the provided blocks is not available.\n",
    "        \"\"\"\n",
    "\n",
    "        super(MyConvNet, self).__init__()\n",
    "        \n",
    "        # Check that the output is one neuron per class (n_classes),\n",
    "        # without activation function\n",
    "        if fc_block[-1] != n_classes:\n",
    "            raise ValueError(\n",
    "                f'Last layer in fc_block must be n_classes ({n_classes}) '\n",
    "                f'but {fc_block[-1]} was found instead.'\n",
    "            )\n",
    "        \n",
    "        # Set the input shape, including the channel dimension\n",
    "        self.input_shape = (1, *input_shape)\n",
    "        \n",
    "        # Initialize the convolutional layers\n",
    "        self.conv_block = nn.Sequential()\n",
    "        in_channels = 1  # gray-scale images\n",
    "    \n",
    "        for layer in conv_block:\n",
    "            if isinstance(layer, str):\n",
    "                if layer.lower() == 'max_pool':\n",
    "                    pooling = torch.nn.MaxPool2d(kernel_size=2)\n",
    "                    self.conv_block.append(pooling)\n",
    "                else:  # Activation Layer (tanh or relu)\n",
    "                    activation = self._get_activation(layer_=layer)\n",
    "                    self.conv_block.append(activation)\n",
    "            elif isinstance(layer, (list, tuple)) and len(layer) == 2:\n",
    "                # 2D convolutional layer = (out_channels, kernel_size)\n",
    "                self.conv_block.append(\n",
    "                    nn.Conv2d(\n",
    "                        in_channels=in_channels, \n",
    "                        out_channels=layer[1],\n",
    "                        kernel_size=layer[0],\n",
    "                        padding=0  # padding is zero for all conv layers\n",
    "                    )\n",
    "                )\n",
    "                in_channels = layer[1]  # update current number of channels\n",
    "            else:\n",
    "                raise ValueError(\n",
    "                    f'{layer}, wrong convolutional layer in conv_block. '\n",
    "                    f'Expected one of {self.available_conv_layers}'\n",
    "                )\n",
    "                \n",
    "        # Compute the number of input features of the first FullyConn layer\n",
    "        with torch.no_grad():\n",
    "            conv_out = self.conv_block(\n",
    "                torch.zeros((1, *self.input_shape))\n",
    "            )\n",
    "            in_features = torch.prod(torch.tensor(conv_out.shape)).item()\n",
    "        \n",
    "        # Initialize the fully-connected layers\n",
    "        # Append the to the fully-connected block\n",
    "        self.fc_block = nn.Sequential()\n",
    "\n",
    "        for layer in fc_block:\n",
    "            if isinstance(layer, str):\n",
    "                # Activation Layer\n",
    "                activation = self._get_activation(layer_=layer)\n",
    "                self.fc_block.append(activation)\n",
    "            elif isinstance(layer, int):\n",
    "                # Fully Connected Layer\n",
    "                self.fc_block.append(\n",
    "                    nn.Linear(\n",
    "                        in_features=in_features, \n",
    "                        out_features=layer\n",
    "                    )\n",
    "                )\n",
    "                # update the current number of hidden neurons\n",
    "                in_features = layer\n",
    "            else:\n",
    "                raise ValueError(\n",
    "                    f'{layer}, wrong Fully-Connected layer in fc_block. '\n",
    "                    f'Expected one of {self.available_fc_layers}'\n",
    "                ) \n",
    "    \n",
    "    @staticmethod\n",
    "    def _get_activation(layer_: str) -> nn.Module:\n",
    "        \"\"\"\n",
    "        Returns the activation function based on the provided string.\n",
    "        Available modules: ['relu', 'tanh']\n",
    "\n",
    "        Args:\n",
    "            layer_: String representation of the activation function.\n",
    "\n",
    "        Returns:\n",
    "            nn.Module: Activation function (module).\n",
    "\n",
    "        Raises:\n",
    "            ValueError: If the provided activation function is not available.\n",
    "        \"\"\"\n",
    "\n",
    "        if 'relu' == layer_.lower():\n",
    "            return nn.ReLU()\n",
    "        elif 'tanh' == layer_.lower():\n",
    "            return nn.Tanh()\n",
    "        else:\n",
    "            raise ValueError(\n",
    "                f'{layer_} activation function is not available'\n",
    "            )\n",
    "        \n",
    "    def forward(self, x: torch.Tensor) -> torch.Tensor:\n",
    "        \"\"\"\n",
    "        Forward pass through the network. Note that \n",
    "        no activation function is applied to the final output.\n",
    "\n",
    "        Args:\n",
    "            x: Input data (batch of images).\n",
    "\n",
    "        Returns:\n",
    "            torch.Tensor: Output of the network.\n",
    "        \"\"\"\n",
    "\n",
    "        out = self.conv_block(x)\n",
    "        out = torch.flatten(out, start_dim=1)\n",
    "        out = self.fc_block(out)\n",
    "        return out"
   ]
  },
  {
   "cell_type": "code",
   "execution_count": 22,
   "id": "91e5afb3",
   "metadata": {
    "papermill": {
     "duration": 0.104606,
     "end_time": "2024-02-10T11:21:45.729438",
     "exception": false,
     "start_time": "2024-02-10T11:21:45.624832",
     "status": "completed"
    },
    "tags": []
   },
   "outputs": [
    {
     "data": {
      "text/plain": [
       "MyConvNet(\n",
       "  (conv_block): Sequential(\n",
       "    (0): Conv2d(1, 16, kernel_size=(3, 3), stride=(1, 1))\n",
       "    (1): ReLU()\n",
       "    (2): MaxPool2d(kernel_size=2, stride=2, padding=0, dilation=1, ceil_mode=False)\n",
       "    (3): Conv2d(16, 32, kernel_size=(3, 3), stride=(1, 1))\n",
       "    (4): ReLU()\n",
       "    (5): MaxPool2d(kernel_size=2, stride=2, padding=0, dilation=1, ceil_mode=False)\n",
       "  )\n",
       "  (fc_block): Sequential(\n",
       "    (0): Linear(in_features=800, out_features=64, bias=True)\n",
       "    (1): ReLU()\n",
       "    (2): Linear(in_features=64, out_features=10, bias=True)\n",
       "  )\n",
       ")"
      ]
     },
     "execution_count": 22,
     "metadata": {},
     "output_type": "execute_result"
    }
   ],
   "source": [
    "# Initialize a MyConvNet instance\n",
    "# (You may want to experiment with different configurations!)\n",
    "\n",
    "# Initialize a MyConvNet instance\n",
    "conv_net = MyConvNet(\n",
    "    conv_block=hparams['conv_block'],\n",
    "    fc_block=hparams['fc_block']\n",
    ").to(device)\n",
    "\n",
    "conv_net  # display the sequence of layers"
   ]
  },
  {
   "cell_type": "code",
   "execution_count": 23,
   "id": "68e5ec89",
   "metadata": {
    "papermill": {
     "duration": 0.024498,
     "end_time": "2024-02-10T11:21:45.769732",
     "exception": false,
     "start_time": "2024-02-10T11:21:45.745234",
     "status": "completed"
    },
    "tags": []
   },
   "outputs": [
    {
     "name": "stdout",
     "output_type": "stream",
     "text": [
      "Criterion = CrossEntropyLoss()\n",
      "\n",
      "Optimizer = Adam (\n",
      "Parameter Group 0\n",
      "    amsgrad: False\n",
      "    betas: (0.9, 0.999)\n",
      "    capturable: False\n",
      "    differentiable: False\n",
      "    eps: 1e-08\n",
      "    foreach: None\n",
      "    fused: None\n",
      "    lr: 0.0005\n",
      "    maximize: False\n",
      "    weight_decay: 0.0001\n",
      ")\n"
     ]
    }
   ],
   "source": [
    "# Define Loss Function: Cross-Entropy Loss.\n",
    "#   Each predicted class probability is compared to \n",
    "#   the actual class desired output 0 or 1 and a 'loss'\n",
    "#   is calculated that penalizes the probability based on\n",
    "#   how far it is from the actual expected value.\n",
    "#   (It is also called Logarithmic loss)\n",
    "criterion = nn.CrossEntropyLoss()\n",
    "print('Criterion =', criterion)\n",
    "print()\n",
    "\n",
    "# Define the Optimizer: Adam.\n",
    "#   It is a stochastic gradient descent (SGD) method\n",
    "#   that is based on adaptive estimation of first-order\n",
    "#   and second-order moments.\n",
    "optimizer = torch.optim.Adam(\n",
    "    params=conv_net.parameters(),\n",
    "    lr=hparams['learning_rate'],\n",
    "    weight_decay=hparams['weight_decay'],  # L2 regularization\n",
    ")\n",
    "print('Optimizer =', optimizer)"
   ]
  },
  {
   "cell_type": "code",
   "execution_count": 24,
   "id": "d3e74ab1",
   "metadata": {
    "papermill": {
     "duration": 16.9402,
     "end_time": "2024-02-10T11:22:02.725742",
     "exception": false,
     "start_time": "2024-02-10T11:21:45.785542",
     "status": "completed"
    },
    "tags": []
   },
   "outputs": [
    {
     "name": "stdout",
     "output_type": "stream",
     "text": [
      "[Epoch: 1/10, Iter: 1/591]\n",
      "   train loss: 0.01538   valid loss: 2.29385\n",
      "[Epoch: 1/10, Iter: 151/591]\n",
      "   train loss: 1.12047   valid loss: 0.43533\n",
      "[Epoch: 1/10, Iter: 301/591]\n",
      "   train loss: 0.33894   valid loss: 0.27339\n",
      "[Epoch: 1/10, Iter: 451/591]\n",
      "   train loss: 0.24367   valid loss: 0.20527\n",
      "\n",
      "[Epoch: 2/10, Iter: 1/591]\n",
      "   train loss: 0.00067   valid loss: 0.18644\n",
      "[Epoch: 2/10, Iter: 151/591]\n",
      "   train loss: 0.14799   valid loss: 0.14500\n",
      "[Epoch: 2/10, Iter: 301/591]\n",
      "   train loss: 0.13712   valid loss: 0.12626\n",
      "[Epoch: 2/10, Iter: 451/591]\n",
      "   train loss: 0.11134   valid loss: 0.10958\n",
      "\n",
      "[Epoch: 3/10, Iter: 1/591]\n",
      "   train loss: 0.00070   valid loss: 0.10246\n",
      "[Epoch: 3/10, Iter: 151/591]\n",
      "   train loss: 0.09888   valid loss: 0.10790\n",
      "[Epoch: 3/10, Iter: 301/591]\n",
      "   train loss: 0.09157   valid loss: 0.09863\n",
      "[Epoch: 3/10, Iter: 451/591]\n",
      "   train loss: 0.08173   valid loss: 0.08538\n",
      "\n",
      "[Epoch: 4/10, Iter: 1/591]\n",
      "   train loss: 0.00030   valid loss: 0.08904\n",
      "[Epoch: 4/10, Iter: 151/591]\n",
      "   train loss: 0.07154   valid loss: 0.08049\n",
      "[Epoch: 4/10, Iter: 301/591]\n",
      "   train loss: 0.08099   valid loss: 0.07244\n",
      "[Epoch: 4/10, Iter: 451/591]\n",
      "   train loss: 0.07034   valid loss: 0.07008\n",
      "\n",
      "[Epoch: 5/10, Iter: 1/591]\n",
      "   train loss: 0.00032   valid loss: 0.07149\n",
      "[Epoch: 5/10, Iter: 151/591]\n",
      "   train loss: 0.06186   valid loss: 0.06736\n",
      "[Epoch: 5/10, Iter: 301/591]\n",
      "   train loss: 0.05872   valid loss: 0.06261\n",
      "[Epoch: 5/10, Iter: 451/591]\n",
      "   train loss: 0.05804   valid loss: 0.05559\n",
      "\n",
      "[Epoch: 6/10, Iter: 1/591]\n",
      "   train loss: 0.00096   valid loss: 0.06251\n",
      "[Epoch: 6/10, Iter: 151/591]\n",
      "   train loss: 0.05189   valid loss: 0.05772\n",
      "[Epoch: 6/10, Iter: 301/591]\n",
      "   train loss: 0.05524   valid loss: 0.05661\n",
      "[Epoch: 6/10, Iter: 451/591]\n",
      "   train loss: 0.04944   valid loss: 0.05513\n",
      "\n",
      "[Epoch: 7/10, Iter: 1/591]\n",
      "   train loss: 0.00012   valid loss: 0.05468\n",
      "[Epoch: 7/10, Iter: 151/591]\n",
      "   train loss: 0.04380   valid loss: 0.06530\n",
      "[Epoch: 7/10, Iter: 301/591]\n",
      "   train loss: 0.05211   valid loss: 0.05741\n",
      "[Epoch: 7/10, Iter: 451/591]\n",
      "   train loss: 0.04664   valid loss: 0.05470\n",
      "\n",
      "[Epoch: 8/10, Iter: 1/591]\n",
      "   train loss: 0.00011   valid loss: 0.05316\n",
      "[Epoch: 8/10, Iter: 151/591]\n",
      "   train loss: 0.03886   valid loss: 0.05154\n",
      "[Epoch: 8/10, Iter: 301/591]\n",
      "   train loss: 0.03808   valid loss: 0.05133\n",
      "[Epoch: 8/10, Iter: 451/591]\n",
      "   train loss: 0.04882   valid loss: 0.04845\n",
      "\n",
      "[Epoch: 9/10, Iter: 1/591]\n",
      "   train loss: 0.00003   valid loss: 0.05690\n",
      "[Epoch: 9/10, Iter: 151/591]\n",
      "   train loss: 0.03567   valid loss: 0.05011\n",
      "[Epoch: 9/10, Iter: 301/591]\n",
      "   train loss: 0.04116   valid loss: 0.05452\n",
      "[Epoch: 9/10, Iter: 451/591]\n",
      "   train loss: 0.04007   valid loss: 0.04941\n",
      "\n",
      "[Epoch: 10/10, Iter: 1/591]\n",
      "   train loss: 0.00015   valid loss: 0.05112\n",
      "[Epoch: 10/10, Iter: 151/591]\n",
      "   train loss: 0.03335   valid loss: 0.04743\n",
      "[Epoch: 10/10, Iter: 301/591]\n",
      "   train loss: 0.03547   valid loss: 0.05016\n",
      "[Epoch: 10/10, Iter: 451/591]\n",
      "   train loss: 0.03518   valid loss: 0.04822\n",
      "\n",
      "Finished Training!\n"
     ]
    }
   ],
   "source": [
    "# Traininig Loop: train the Neural Network\n",
    "\n",
    "# Track the training and validation losses\n",
    "train_losses, valid_losses = [], []\n",
    "\n",
    "# Set the module in training mode\n",
    "conv_net.train()\n",
    "\n",
    "# Loop through epochs\n",
    "for epoch in range(hparams['num_epochs']):\n",
    "    \n",
    "    # Initialize the running loss for this display\n",
    "    running_loss = 0.0\n",
    "    \n",
    "    # Loop through batches in the training subset of data\n",
    "    for i, (X_batch, y_batch) in enumerate(train_loader):\n",
    "        \n",
    "        # Zero the gradients to avoid accumulation\n",
    "        optimizer.zero_grad()\n",
    "        \n",
    "        # Forward pass: compute predicted y by passing x to the model\n",
    "        y_pred = conv_net(X_batch)\n",
    "        \n",
    "        # Compute the batch loss\n",
    "        batch_loss = criterion(y_pred, y_batch)\n",
    "        \n",
    "        # Backward pass: compute gradient of the loss with respect to model parameters\n",
    "        batch_loss.backward()\n",
    "        \n",
    "        # Update the model parameters\n",
    "        optimizer.step()\n",
    "        \n",
    "        # Update running loss and save batch loss in the training losses list\n",
    "        running_loss += batch_loss.item()\n",
    "        train_losses.append(batch_loss.item())\n",
    "        \n",
    "        # Compute and save validation loss periodically\n",
    "        if i % hparams['compute_valid_loss_every'] == 0:\n",
    "    \n",
    "            # Use the trained model to predict on the validation set\n",
    "            with torch.no_grad():\n",
    "                # Avoid gradient calculation, we don't need it here\n",
    "                y_valid_pred = conv_net(X_valid)\n",
    "                # Compute validation loss (cross-entropy loss)\n",
    "                valid_loss = criterion(y_valid_pred, y_valid)\n",
    "\n",
    "            # Save the validation loss in the valid losses list\n",
    "            valid_losses.append(valid_loss.item())\n",
    "        \n",
    "        # Display training information periodically\n",
    "        if i % hparams['display_info_every'] == 0:\n",
    "            print(\n",
    "                f'[Epoch: {epoch + 1}/{hparams[\"num_epochs\"]}, '\n",
    "                f'Iter: {i+1}/{len(train_loader)}]\\n'\n",
    "                f'   train loss: {running_loss / hparams[\"display_info_every\"]:.5f}'\n",
    "                f'   valid loss: {valid_losses[-1]:.5f}'\n",
    "            )\n",
    "            # Reset running loss for the next display\n",
    "            running_loss = 0.0\n",
    "\n",
    "    print()  # newline after each epoch\n",
    "\n",
    "print('Finished Training!')"
   ]
  },
  {
   "cell_type": "code",
   "execution_count": 25,
   "id": "d875ffb5",
   "metadata": {
    "papermill": {
     "duration": 0.335817,
     "end_time": "2024-02-10T11:22:03.082199",
     "exception": false,
     "start_time": "2024-02-10T11:22:02.746382",
     "status": "completed"
    },
    "tags": []
   },
   "outputs": [
    {
     "data": {
      "text/plain": [
       "Text(0, 0.5, 'Loss')"
      ]
     },
     "execution_count": 25,
     "metadata": {},
     "output_type": "execute_result"
    },
    {
     "data": {
      "image/png": "[encoded data removed]",
      "text/plain": [
       "<Figure size 640x480 with 1 Axes>"
      ]
     },
     "metadata": {},
     "output_type": "display_data"
    }
   ],
   "source": [
    "# Plot the training and validation losses.\n",
    "# Check that there is no overfitting.\n",
    "# If there is overfitting, you may want to reduce the number of epochs.\n",
    "# Use a moving average of the training loss to provide a smoother curve. \n",
    "# Vertical dashed lines are added to indicate the end of each epoch.\n",
    "\n",
    "\n",
    "def moving_average(data: List, window: int) -> np.ndarray:\n",
    "    \"\"\"\n",
    "    Calculate the moving average of a list of values.\n",
    "    Method: convolution.\n",
    "\n",
    "    Args:\n",
    "        data (List): List of data points.\n",
    "        window (int): Size of the moving average window.\n",
    "\n",
    "    Returns:\n",
    "        np.ndarray: Moving average values.\n",
    "    \"\"\"\n",
    "    return np.convolve(data, np.ones(window), 'valid') / window\n",
    "\n",
    "\n",
    "\n",
    "# Calculate the moving average of training losses \n",
    "avg_train_losses = moving_average(train_losses, window=20)\n",
    "\n",
    "# Plot the training and validation losses\n",
    "plt.plot(\n",
    "    range(1, len(avg_train_losses)+1),\n",
    "    avg_train_losses,\n",
    "    label='training loss',\n",
    "    color='#4B0082'\n",
    ")\n",
    "plt.plot(\n",
    "    range(1, len(avg_train_losses)+1, hparams['compute_valid_loss_every']),\n",
    "    valid_losses,\n",
    "    label='validation_loss',\n",
    "    color='#A45EE5'\n",
    ")\n",
    "\n",
    "# Add vertical lines at the end of each epoch\n",
    "epochs_x = [\n",
    "    len(train_loader) * e \n",
    "    for e in range(1, hparams['num_epochs']+1)\n",
    "]\n",
    "plt.vlines(\n",
    "    x=epochs_x, \n",
    "    ls='--',\n",
    "    lw=1,\n",
    "    ymin=0, \n",
    "    ymax=train_losses[0],  # Assuming the initial loss is a reasonable upper limit\n",
    "    alpha=0.4, \n",
    "    color='#808080',\n",
    "    label='Epochs'\n",
    ")\n",
    "\n",
    "# Configure plot details\n",
    "plt.legend()\n",
    "plt.title('Training and Validation Losses [Cross-Entropy Loss]\\n')\n",
    "plt.xlabel('Number of Weight Updates')\n",
    "plt.ylabel('Loss')"
   ]
  },
  {
   "cell_type": "code",
   "execution_count": 26,
   "id": "af17e645",
   "metadata": {
    "papermill": {
     "duration": 0.06323,
     "end_time": "2024-02-10T11:22:03.166291",
     "exception": false,
     "start_time": "2024-02-10T11:22:03.103061",
     "status": "completed"
    },
    "tags": []
   },
   "outputs": [
    {
     "name": "stdout",
     "output_type": "stream",
     "text": [
      "              precision    recall  f1-score   support\n",
      "\n",
      "           0       0.99      0.99      0.99       415\n",
      "           1       1.00      0.99      0.99       496\n",
      "           2       0.99      0.98      0.98       400\n",
      "           3       0.99      1.00      0.99       417\n",
      "           4       0.99      0.98      0.99       411\n",
      "           5       0.99      0.99      0.99       405\n",
      "           6       0.98      0.99      0.99       390\n",
      "           7       0.98      0.99      0.98       435\n",
      "           8       0.98      0.98      0.98       442\n",
      "           9       0.97      0.98      0.97       389\n",
      "\n",
      "    accuracy                           0.99      4200\n",
      "   macro avg       0.99      0.99      0.99      4200\n",
      "weighted avg       0.99      0.99      0.99      4200\n",
      "\n"
     ]
    }
   ],
   "source": [
    "# Now, let's evaluate the performance of the trained model on the \n",
    "# validation set using the classification_report function from scikit-learn. \n",
    "\n",
    "# Use the trained model to predict on the validation set without computing gradients\n",
    "with torch.no_grad():\n",
    "    y_valid_pred = conv_net(X_valid).max(1)[1]\n",
    "\n",
    "# Compute the classification report using sklearn\n",
    "res = classification_report(\n",
    "    y_true=y_valid.cpu().numpy(),\n",
    "    y_pred=y_valid_pred.cpu().numpy(),\n",
    "    labels=range(10),\n",
    ")\n",
    "\n",
    "# Print the classification report\n",
    "print(res)"
   ]
  },
  {
   "cell_type": "code",
   "execution_count": 27,
   "id": "0b1a4cc8",
   "metadata": {
    "papermill": {
     "duration": 0.534751,
     "end_time": "2024-02-10T11:22:03.721192",
     "exception": false,
     "start_time": "2024-02-10T11:22:03.186441",
     "status": "completed"
    },
    "tags": []
   },
   "outputs": [
    {
     "data": {
      "image/png": "[encoded data removed]",
      "text/plain": [
       "<Figure size 640x480 with 2 Axes>"
      ]
     },
     "metadata": {},
     "output_type": "display_data"
    }
   ],
   "source": [
    "# The Confusion Matrix provides a summary of the model's classification \n",
    "# performance, showing the number of true positive, true negative, \n",
    "# false positive, and false negative predictions for each class.\n",
    "# We will use the scikit-learn's `confusion_matrix` function\n",
    "\n",
    "conf_matrix = confusion_matrix(\n",
    "    y_true=y_valid.cpu().numpy(), \n",
    "    y_pred=y_valid_pred.cpu().numpy()\n",
    ")\n",
    "# Visualization:\n",
    "conf_matrix_disp = ConfusionMatrixDisplay(conf_matrix)\n",
    "_ = conf_matrix_disp.plot()\n",
    "\n",
    "# COMMENT: Confusing pairs are (2,7), (8,9), (4,8), (4,9)"
   ]
  },
  {
   "cell_type": "markdown",
   "id": "2db911f5",
   "metadata": {
    "papermill": {
     "duration": 0.020443,
     "end_time": "2024-02-10T11:22:03.762514",
     "exception": false,
     "start_time": "2024-02-10T11:22:03.742071",
     "status": "completed"
    },
    "tags": []
   },
   "source": [
    "# 🧐 Visualizing Misclassified Images 🧐"
   ]
  },
  {
   "cell_type": "markdown",
   "id": "8d5101b2",
   "metadata": {
    "papermill": {
     "duration": 0.020304,
     "end_time": "2024-02-10T11:22:03.803292",
     "exception": false,
     "start_time": "2024-02-10T11:22:03.782988",
     "status": "completed"
    },
    "tags": []
   },
   "source": [
    "<div style=\"border-radius: 10px; border: #710193 solid; padding: 15px; background-color: #ffffff00; font-size: 100%; text-align: left;\">\n",
    "Understanding which images are misclassified helps in <b>error analysis</b>. It provides insights into the types of <b>patterns or features that are challenging for the model</b>. It also serves as a <i>qualitative assessment</i> of the model's performance beyond numerical metrics (accuracy, precision, recall).<br><br>\n",
    "When visualizing errors, it's essential to consider the context of the specific image classification task. The interpretation of errors may depend on the <i>application domain</i>, the importance of different classes, and the potential impact of misclassifications.<br><br>\n",
    "    \n",
    "In our task, we want to verify that misclassified images are <b>really difficult to classify, even for a human</b>. If that is the case, the model is fine because it means it is failing in cases where even a human would fail.\n",
    " </div>"
   ]
  },
  {
   "cell_type": "code",
   "execution_count": 28,
   "id": "b5637180",
   "metadata": {
    "papermill": {
     "duration": 0.043233,
     "end_time": "2024-02-10T11:22:03.867213",
     "exception": false,
     "start_time": "2024-02-10T11:22:03.823980",
     "status": "completed"
    },
    "tags": []
   },
   "outputs": [
    {
     "name": "stdout",
     "output_type": "stream",
     "text": [
      "Number of misclassified Validation images: 60\n"
     ]
    }
   ],
   "source": [
    "n_misclassified = torch.sum(y_valid_pred != y_valid).item()\n",
    "print('Number of misclassified Validation images:', n_misclassified)"
   ]
  },
  {
   "cell_type": "code",
   "execution_count": 29,
   "id": "d2d6e416",
   "metadata": {
    "papermill": {
     "duration": 1.331537,
     "end_time": "2024-02-10T11:22:05.220048",
     "exception": false,
     "start_time": "2024-02-10T11:22:03.888511",
     "status": "completed"
    },
    "tags": []
   },
   "outputs": [
    {
     "data": {
      "image/png": "[encoded data removed]",
      "text/plain": [
       "<Figure size 1000x1000 with 25 Axes>"
      ]
     },
     "metadata": {},
     "output_type": "display_data"
    }
   ],
   "source": [
    "# Set the number of rows and columns for the subplot grid\n",
    "nrows, ncols = 5, 5\n",
    "# Here we will visualize 25 errors, but feel free to change this value\n",
    "\n",
    "# Create a subplot grid for displaying error images\n",
    "fig, axs = plt.subplots(\n",
    "    nrows=nrows, \n",
    "    ncols=ncols, \n",
    "    figsize=(10,10)\n",
    ")\n",
    "# Adjust the vertical spacing between subplots\n",
    "fig.subplots_adjust(hspace=0.5)\n",
    "\n",
    "# Identify the indices where the predicted labels do not match the true labels\n",
    "errors_idx = torch.where(y_valid_pred != y_valid)[0]\n",
    "\n",
    "for i in range(ncols*nrows):\n",
    "    idx = errors_idx[i]  # Get the index of an error\n",
    "    img = axs[i//ncols, i%nrows].imshow(\n",
    "        X=X_valid[idx, 0].cpu().numpy(), cmap='Purples'\n",
    "    )\n",
    "    \n",
    "    # Get the true and predicted labels for the error image\n",
    "    label = y_valid[idx]\n",
    "    predicted = y_valid_pred[idx]\n",
    "    \n",
    "    # Configure subplot settings\n",
    "    img.axes.get_yaxis().set_visible(False)\n",
    "    img.axes.get_xaxis().set_visible(False)\n",
    "    img.axes.set_title(f'Label: {label}\\n Predicted: {predicted}')\n",
    "\n",
    "# NOTE: it seems that a human is also likely to misclassified these images.\n",
    "# Some of them are very difficult to distinguish."
   ]
  },
  {
   "cell_type": "markdown",
   "id": "cf388b3e",
   "metadata": {
    "papermill": {
     "duration": 0.021527,
     "end_time": "2024-02-10T11:22:05.263940",
     "exception": false,
     "start_time": "2024-02-10T11:22:05.242413",
     "status": "completed"
    },
    "tags": []
   },
   "source": [
    "# 👀 <b>Visualize Convolutional Filters</b> 👀"
   ]
  },
  {
   "cell_type": "markdown",
   "id": "ea7424b9",
   "metadata": {
    "papermill": {
     "duration": 0.021615,
     "end_time": "2024-02-10T11:22:05.307044",
     "exception": false,
     "start_time": "2024-02-10T11:22:05.285429",
     "status": "completed"
    },
    "tags": []
   },
   "source": [
    "<div style=\"border-radius: 10px; border: #710193 solid; padding: 15px; background-color: #ffffff00; font-size: 100%; text-align: left;\">\n",
    "Visualizing the learned convolutional filters of your convolutional neural network (CNN) can provide valuable insights into <b>how the network is processing and representing features</b> in the input data. Some examples of <i>low-level</i> features are: <b>Edge Detection</b>, <b>Texture Information</b>, <b>basic Patterns and Shapes</b>, etc.<br><br> \n",
    "    \n",
    "Visualizing filters is more common in the early layers of the network where the filters directly interact with the input data. In deeper layers, visualizations become more abstract and may not have a clear interpretation. For this reason, we will just <b>visualize the filters of the first convolutional layer</b>."
   ]
  },
  {
   "cell_type": "code",
   "execution_count": 30,
   "id": "5560e363",
   "metadata": {
    "papermill": {
     "duration": 0.738978,
     "end_time": "2024-02-10T11:22:06.068728",
     "exception": false,
     "start_time": "2024-02-10T11:22:05.329750",
     "status": "completed"
    },
    "tags": []
   },
   "outputs": [
    {
     "data": {
      "image/png": "[encoded data removed]",
      "text/plain": [
       "<Figure size 800x800 with 16 Axes>"
      ]
     },
     "metadata": {},
     "output_type": "display_data"
    }
   ],
   "source": [
    "# First, get he filters from the first convolutional layer\n",
    "filters = conv_net.conv_block[0].weight.data\n",
    "filters = filters.cpu().numpy().squeeze()\n",
    "\n",
    "# Since we defined 16 3x3 filters for the first layer,\n",
    "# we will plot all of them in a 4x4 grid. \n",
    "# You may want to change the 'nrows', 'ncols', 'figsize' values\n",
    "# if you want to plot more filters.\n",
    "fig, axs = plt.subplots(nrows=4, ncols=4, figsize=(8, 8))\n",
    "\n",
    "for i, filter_ in enumerate(filters):\n",
    "    # Transpose the filter to match the usual image orientation\n",
    "    img = np.transpose(filter_, (1, 0))\n",
    "    # Normalize the filter values to be in the range [0, 1]\n",
    "    img = img / (img.max() - img.min())\n",
    "\n",
    "    # Plot the filter in the corresponding subplot\n",
    "    axs[i//4, i%4].imshow(img, cmap= 'gray')\n",
    "    axs[i//4, i%4].set_xticks([])\n",
    "    axs[i//4, i%4].set_yticks([])\n",
    "\n",
    "plt.show()"
   ]
  },
  {
   "cell_type": "markdown",
   "id": "4556248e",
   "metadata": {
    "papermill": {
     "duration": 0.021742,
     "end_time": "2024-02-10T11:22:06.112879",
     "exception": false,
     "start_time": "2024-02-10T11:22:06.091137",
     "status": "completed"
    },
    "tags": []
   },
   "source": [
    "# 🌟 Submission File 🌟"
   ]
  },
  {
   "cell_type": "markdown",
   "id": "71926a4c",
   "metadata": {
    "papermill": {
     "duration": 0.021759,
     "end_time": "2024-02-10T11:22:06.156308",
     "exception": false,
     "start_time": "2024-02-10T11:22:06.134549",
     "status": "completed"
    },
    "tags": []
   },
   "source": [
    "<div style=\"border-radius: 10px; border: #710193 solid; padding: 15px; background-color: #ffffff00; font-size: 100%; text-align: left;\">\n",
    "    In this section, we will <b>train a new model with the entire training dataset</b> (training subset + validation subset). But before that, we will <b>preprocess the test data</b> applying the exact same preprocessing steps we applied to the training data. Finally, we will create the <b>submission file</b> with the test predictions.\n",
    "</div>"
   ]
  },
  {
   "cell_type": "code",
   "execution_count": 31,
   "id": "2b10765e",
   "metadata": {
    "papermill": {
     "duration": 0.305672,
     "end_time": "2024-02-10T11:22:06.483750",
     "exception": false,
     "start_time": "2024-02-10T11:22:06.178078",
     "status": "completed"
    },
    "tags": []
   },
   "outputs": [
    {
     "name": "stdout",
     "output_type": "stream",
     "text": [
      "torch.Size([28000, 1, 28, 28])\n"
     ]
    }
   ],
   "source": [
    "# Preprocess the Test data\n",
    "X_test = df_test.values\n",
    "\n",
    "# Min-Max Scaler\n",
    "X_min, X_max = X_train_original.min(), X_train_original.max()\n",
    "X_test = (X_test - X_min) / (X_max - X_min)\n",
    "\n",
    "# Reshape it to create 28x28 images\n",
    "X_test = X_test.reshape(-1, 28, 28)\n",
    "\n",
    "# To Pytorch Tensor\n",
    "X_test = torch.tensor(data=X_test, dtype=torch.float, device=device)\n",
    "\n",
    "# Add the channel dimension:\n",
    "X_test = X_test.unsqueeze(dim=1)\n",
    "\n",
    "print(X_test.shape)"
   ]
  },
  {
   "cell_type": "code",
   "execution_count": 32,
   "id": "5dcdec23",
   "metadata": {
    "papermill": {
     "duration": 0.029664,
     "end_time": "2024-02-10T11:22:06.536439",
     "exception": false,
     "start_time": "2024-02-10T11:22:06.506775",
     "status": "completed"
    },
    "tags": []
   },
   "outputs": [],
   "source": [
    "# Create a new final_train_loader with 'train_dataset' \n",
    "# instead of 'train_subset' \n",
    "# Note that train_dataset = train_subset + validation_subset\n",
    "\n",
    "final_train_loader = torch.utils.data.DataLoader(\n",
    "    dataset=train_dataset,\n",
    "    batch_size=hparams['batch_size'],\n",
    "    shuffle=True,\n",
    ")"
   ]
  },
  {
   "cell_type": "code",
   "execution_count": 33,
   "id": "502a4747",
   "metadata": {
    "papermill": {
     "duration": 0.032197,
     "end_time": "2024-02-10T11:22:06.590621",
     "exception": false,
     "start_time": "2024-02-10T11:22:06.558424",
     "status": "completed"
    },
    "tags": []
   },
   "outputs": [],
   "source": [
    "# Initialize the final model\n",
    "final_conv_net = MyConvNet(\n",
    "    conv_block=hparams['conv_block'],\n",
    "    fc_block=hparams['fc_block']\n",
    ").to(device)"
   ]
  },
  {
   "cell_type": "code",
   "execution_count": 34,
   "id": "dca980ba",
   "metadata": {
    "papermill": {
     "duration": 0.030082,
     "end_time": "2024-02-10T11:22:06.643939",
     "exception": false,
     "start_time": "2024-02-10T11:22:06.613857",
     "status": "completed"
    },
    "tags": []
   },
   "outputs": [],
   "source": [
    "criterion = nn.CrossEntropyLoss()\n",
    "\n",
    "optimizer = torch.optim.Adam(\n",
    "    params=final_conv_net.parameters(),\n",
    "    lr=hparams['learning_rate'],\n",
    "    weight_decay=hparams['weight_decay'],\n",
    ")"
   ]
  },
  {
   "cell_type": "code",
   "execution_count": 35,
   "id": "3832ea6d",
   "metadata": {
    "papermill": {
     "duration": 16.729406,
     "end_time": "2024-02-10T11:22:23.395182",
     "exception": false,
     "start_time": "2024-02-10T11:22:06.665776",
     "status": "completed"
    },
    "tags": []
   },
   "outputs": [
    {
     "name": "stdout",
     "output_type": "stream",
     "text": [
      "Epoch 1 / 10\n",
      "Epoch 2 / 10\n",
      "Epoch 3 / 10\n",
      "Epoch 4 / 10\n",
      "Epoch 5 / 10\n",
      "Epoch 6 / 10\n",
      "Epoch 7 / 10\n",
      "Epoch 8 / 10\n",
      "Epoch 9 / 10\n",
      "Epoch 10 / 10\n",
      "Finished Training!\n"
     ]
    }
   ],
   "source": [
    "# Final Training Loop:\n",
    "# (using final_train_loader and final_conv_net)\n",
    "\n",
    "final_conv_net.train()\n",
    "\n",
    "for epoch in range(hparams['num_epochs']):\n",
    "    print(f'Epoch {epoch+1} / {hparams[\"num_epochs\"]}')\n",
    "    for i, (X_batch, y_batch) in enumerate(final_train_loader):\n",
    "        optimizer.zero_grad()\n",
    "        y_pred = final_conv_net(X_batch)\n",
    "        batch_loss = criterion(y_pred, y_batch)\n",
    "        batch_loss.backward()\n",
    "        optimizer.step()\n",
    "\n",
    "print('Finished Training!')"
   ]
  },
  {
   "cell_type": "code",
   "execution_count": 36,
   "id": "162f0044",
   "metadata": {
    "papermill": {
     "duration": 0.091673,
     "end_time": "2024-02-10T11:22:23.510559",
     "exception": false,
     "start_time": "2024-02-10T11:22:23.418886",
     "status": "completed"
    },
    "tags": []
   },
   "outputs": [
    {
     "name": "stdout",
     "output_type": "stream",
     "text": [
      "Test predictions = \n",
      " [2 0 9 9 3 7 0 3 0 3 5 7 4 0 4 3 3 1 9 0 9 1 1 5 7 4 2 7 4 7 7 5 4 2 6 2 5\n",
      " 5 1 6 7 7 4 9 8 7 8 2 6 7 6 8 8 3 8 2 1 2 2 0 4 1 7 0 0 0 1 9 0 1 6 5 8 8\n",
      " 2 8 9 9 2 3 5 4 1 0 9 2 4 3 6 7 2 0 6 6 1 4 3 9 7 4]\n"
     ]
    }
   ],
   "source": [
    "# Once the model is trained using the training data,\n",
    "# make predictions on the test data\n",
    "\n",
    "final_conv_net.eval()\n",
    "\n",
    "preds_ = final_conv_net(X_test)\n",
    "preds = preds_.max(1)[1].cpu().numpy()\n",
    "print('Test predictions = \\n', preds[:100])"
   ]
  },
  {
   "cell_type": "code",
   "execution_count": 37,
   "id": "b1aefdd5",
   "metadata": {
    "papermill": {
     "duration": 0.035527,
     "end_time": "2024-02-10T11:22:23.568800",
     "exception": false,
     "start_time": "2024-02-10T11:22:23.533273",
     "status": "completed"
    },
    "tags": []
   },
   "outputs": [
    {
     "data": {
      "text/html": [
       "<div>\n",
       "<style scoped>\n",
       "    .dataframe tbody tr th:only-of-type {\n",
       "        vertical-align: middle;\n",
       "    }\n",
       "\n",
       "    .dataframe tbody tr th {\n",
       "        vertical-align: top;\n",
       "    }\n",
       "\n",
       "    .dataframe thead th {\n",
       "        text-align: right;\n",
       "    }\n",
       "</style>\n",
       "<table border=\"1\" class=\"dataframe\">\n",
       "  <thead>\n",
       "    <tr style=\"text-align: right;\">\n",
       "      <th></th>\n",
       "      <th>ImageId</th>\n",
       "      <th>Label</th>\n",
       "    </tr>\n",
       "  </thead>\n",
       "  <tbody>\n",
       "    <tr>\n",
       "      <th>0</th>\n",
       "      <td>1</td>\n",
       "      <td>2</td>\n",
       "    </tr>\n",
       "    <tr>\n",
       "      <th>1</th>\n",
       "      <td>2</td>\n",
       "      <td>0</td>\n",
       "    </tr>\n",
       "    <tr>\n",
       "      <th>2</th>\n",
       "      <td>3</td>\n",
       "      <td>9</td>\n",
       "    </tr>\n",
       "    <tr>\n",
       "      <th>3</th>\n",
       "      <td>4</td>\n",
       "      <td>9</td>\n",
       "    </tr>\n",
       "    <tr>\n",
       "      <th>4</th>\n",
       "      <td>5</td>\n",
       "      <td>3</td>\n",
       "    </tr>\n",
       "    <tr>\n",
       "      <th>5</th>\n",
       "      <td>6</td>\n",
       "      <td>7</td>\n",
       "    </tr>\n",
       "    <tr>\n",
       "      <th>6</th>\n",
       "      <td>7</td>\n",
       "      <td>0</td>\n",
       "    </tr>\n",
       "    <tr>\n",
       "      <th>7</th>\n",
       "      <td>8</td>\n",
       "      <td>3</td>\n",
       "    </tr>\n",
       "    <tr>\n",
       "      <th>8</th>\n",
       "      <td>9</td>\n",
       "      <td>0</td>\n",
       "    </tr>\n",
       "    <tr>\n",
       "      <th>9</th>\n",
       "      <td>10</td>\n",
       "      <td>3</td>\n",
       "    </tr>\n",
       "  </tbody>\n",
       "</table>\n",
       "</div>"
      ],
      "text/plain": [
       "   ImageId  Label\n",
       "0        1      2\n",
       "1        2      0\n",
       "2        3      9\n",
       "3        4      9\n",
       "4        5      3\n",
       "5        6      7\n",
       "6        7      0\n",
       "7        8      3\n",
       "8        9      0\n",
       "9       10      3"
      ]
     },
     "execution_count": 37,
     "metadata": {},
     "output_type": "execute_result"
    }
   ],
   "source": [
    "# Create a DataFrame with the test predictions\n",
    "submission = pd.DataFrame({\n",
    "    'ImageId' : range(1, len(X_test)+1),\n",
    "    'Label' : preds\n",
    "})\n",
    "\n",
    "submission.head(10)"
   ]
  },
  {
   "cell_type": "code",
   "execution_count": 38,
   "id": "e0450a5a",
   "metadata": {
    "papermill": {
     "duration": 0.085324,
     "end_time": "2024-02-10T11:22:23.676964",
     "exception": false,
     "start_time": "2024-02-10T11:22:23.591640",
     "status": "completed"
    },
    "tags": []
   },
   "outputs": [
    {
     "name": "stdout",
     "output_type": "stream",
     "text": [
      "Your submission file is saved!\n"
     ]
    }
   ],
   "source": [
    "# Create the submission file and save it!\n",
    "# submission.to_csv('submission.csv', index=False)\n",
    "# print('Your submission file is saved!')"
   ]
  }
 ],
 "metadata": {
  "kaggle": {
   "accelerator": "nvidiaTeslaT4",
   "dataSources": [
    {
     "databundleVersionId": 861823,
     "sourceId": 3004,
     "sourceType": "competition"
    }
   ],
   "dockerImageVersionId": 30579,
   "isGpuEnabled": true,
   "isInternetEnabled": true,
   "language": "python",
   "sourceType": "notebook"
  },
  "kernelspec": {
   "display_name": "Python 3 (ipykernel)",
   "language": "python",
   "name": "python3"
  },
  "language_info": {
   "codemirror_mode": {
    "name": "ipython",
    "version": 3
   },
   "file_extension": ".py",
   "mimetype": "text/x-python",
   "name": "python",
   "nbconvert_exporter": "python",
   "pygments_lexer": "ipython3",
   "version": "3.10.11"
  },
  "papermill": {
   "default_parameters": {},
   "duration": 72.757942,
   "end_time": "2024-02-10T11:22:26.394337",
   "environment_variables": {},
   "exception": null,
   "input_path": "__notebook__.ipynb",
   "output_path": "__notebook__.ipynb",
   "parameters": {},
   "start_time": "2024-02-10T11:21:13.636395",
   "version": "2.4.0"
  }
 },
 "nbformat": 4,
 "nbformat_minor": 5
}
